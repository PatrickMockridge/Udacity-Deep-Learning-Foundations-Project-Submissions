{
 "cells": [
  {
   "cell_type": "markdown",
   "metadata": {
    "collapsed": true
   },
   "source": [
    "# Image Classification\n",
    "In this project, you'll classify images from the [CIFAR-10 dataset](https://www.cs.toronto.edu/~kriz/cifar.html).  The dataset consists of airplanes, dogs, cats, and other objects. You'll preprocess the images, then train a convolutional neural network on all the samples. The images need to be normalized and the labels need to be one-hot encoded.  You'll get to apply what you learned and build a convolutional, max pooling, dropout, and fully connected layers.  At the end, you'll get to see your neural network's predictions on the sample images.\n",
    "## Get the Data\n",
    "Run the following cell to download the [CIFAR-10 dataset for python](https://www.cs.toronto.edu/~kriz/cifar-10-python.tar.gz)."
   ]
  },
  {
   "cell_type": "code",
   "execution_count": 30,
   "metadata": {},
   "outputs": [
    {
     "name": "stdout",
     "output_type": "stream",
     "text": [
      "All files found!\n"
     ]
    }
   ],
   "source": [
    "\"\"\"\n",
    "DON'T MODIFY ANYTHING IN THIS CELL THAT IS BELOW THIS LINE\n",
    "\"\"\"\n",
    "from urllib.request import urlretrieve\n",
    "from os.path import isfile, isdir\n",
    "from tqdm import tqdm\n",
    "import problem_unittests as tests\n",
    "import tarfile\n",
    "\n",
    "cifar10_dataset_folder_path = 'cifar-10-batches-py'\n",
    "\n",
    "class DLProgress(tqdm):\n",
    "    last_block = 0\n",
    "\n",
    "    def hook(self, block_num=1, block_size=1, total_size=None):\n",
    "        self.total = total_size\n",
    "        self.update((block_num - self.last_block) * block_size)\n",
    "        self.last_block = block_num\n",
    "\n",
    "if not isfile('cifar-10-python.tar.gz'):\n",
    "    with DLProgress(unit='B', unit_scale=True, miniters=1, desc='CIFAR-10 Dataset') as pbar:\n",
    "        urlretrieve(\n",
    "            'https://www.cs.toronto.edu/~kriz/cifar-10-python.tar.gz',\n",
    "            'cifar-10-python.tar.gz',\n",
    "            pbar.hook)\n",
    "\n",
    "if not isdir(cifar10_dataset_folder_path):\n",
    "    with tarfile.open('cifar-10-python.tar.gz') as tar:\n",
    "        tar.extractall()\n",
    "        tar.close()\n",
    "\n",
    "\n",
    "tests.test_folder_path(cifar10_dataset_folder_path)"
   ]
  },
  {
   "cell_type": "markdown",
   "metadata": {},
   "source": [
    "## Explore the Data\n",
    "The dataset is broken into batches to prevent your machine from running out of memory.  The CIFAR-10 dataset consists of 5 batches, named `data_batch_1`, `data_batch_2`, etc.. Each batch contains the labels and images that are one of the following:\n",
    "* airplane\n",
    "* automobile\n",
    "* bird\n",
    "* cat\n",
    "* deer\n",
    "* dog\n",
    "* frog\n",
    "* horse\n",
    "* ship\n",
    "* truck\n",
    "\n",
    "Understanding a dataset is part of making predictions on the data.  Play around with the code cell below by changing the `batch_id` and `sample_id`. The `batch_id` is the id for a batch (1-5). The `sample_id` is the id for a image and label pair in the batch.\n",
    "\n",
    "Ask yourself \"What are all possible labels?\", \"What is the range of values for the image data?\", \"Are the labels in order or random?\".  Answers to questions like these will help you preprocess the data and end up with better predictions."
   ]
  },
  {
   "cell_type": "code",
   "execution_count": 31,
   "metadata": {},
   "outputs": [
    {
     "name": "stdout",
     "output_type": "stream",
     "text": [
      "\n",
      "Stats of batch 3:\n",
      "Samples: 10000\n",
      "Label Counts: {0: 994, 1: 1042, 2: 965, 3: 997, 4: 990, 5: 1029, 6: 978, 7: 1015, 8: 961, 9: 1029}\n",
      "First 20 Labels: [8, 5, 0, 6, 9, 2, 8, 3, 6, 2, 7, 4, 6, 9, 0, 0, 7, 3, 7, 2]\n",
      "\n",
      "Example of Image 7:\n",
      "Image - Min Value: 12 Max Value: 254\n",
      "Image - Shape: (32, 32, 3)\n",
      "Label - Label Id: 3 Name: cat\n"
     ]
    },
    {
     "data": {
      "image/png": "[encoded data removed]",
      "text/plain": [
       "<matplotlib.figure.Figure at 0x7f468d7b5fd0>"
      ]
     },
     "metadata": {
      "image/png": {
       "height": 250,
       "width": 253
      }
     },
     "output_type": "display_data"
    }
   ],
   "source": [
    "%matplotlib inline\n",
    "%config InlineBackend.figure_format = 'retina'\n",
    "\n",
    "import helper\n",
    "import numpy as np\n",
    "\n",
    "# Explore the dataset\n",
    "batch_id = 3\n",
    "sample_id = 7\n",
    "helper.display_stats(cifar10_dataset_folder_path, batch_id, sample_id)"
   ]
  },
  {
   "cell_type": "markdown",
   "metadata": {},
   "source": [
    "## Implement Preprocess Functions\n",
    "### Normalize\n",
    "In the cell below, implement the `normalize` function to take in image data, `x`, and return it as a normalized Numpy array. The values should be in the range of 0 to 1, inclusive.  The return object should be the same shape as `x`."
   ]
  },
  {
   "cell_type": "code",
   "execution_count": 32,
   "metadata": {},
   "outputs": [
    {
     "name": "stdout",
     "output_type": "stream",
     "text": [
      "Tests Passed\n"
     ]
    }
   ],
   "source": [
    "def normalize(x):\n",
    "    \"\"\"\n",
    "    Normalize a list of sample image data in the range of 0 to 1\n",
    "    : x: List of image data.  The image shape is (32, 32, 3)\n",
    "    : return: Numpy array of normalize data\n",
    "    \"\"\"\n",
    "    # TODO: Implement Function\n",
    "    return np.asarray(x/255)\n",
    "\n",
    "\n",
    "\"\"\"\n",
    "DON'T MODIFY ANYTHING IN THIS CELL THAT IS BELOW THIS LINE\n",
    "\"\"\"\n",
    "tests.test_normalize(normalize)"
   ]
  },
  {
   "cell_type": "markdown",
   "metadata": {},
   "source": [
    "### One-hot encode\n",
    "Just like the previous code cell, you'll be implementing a function for preprocessing.  This time, you'll implement the `one_hot_encode` function. The input, `x`, are a list of labels.  Implement the function to return the list of labels as One-Hot encoded Numpy array.  The possible values for labels are 0 to 9. The one-hot encoding function should return the same encoding for each value between each call to `one_hot_encode`.  Make sure to save the map of encodings outside the function.\n",
    "\n",
    "Hint: Don't reinvent the wheel."
   ]
  },
  {
   "cell_type": "code",
   "execution_count": 33,
   "metadata": {
    "collapsed": true
   },
   "outputs": [],
   "source": [
    "def encode(x):\n",
    "    y = np.zeros(10)\n",
    "    np.put(y, x, 1)\n",
    "    return y"
   ]
  },
  {
   "cell_type": "code",
   "execution_count": 34,
   "metadata": {},
   "outputs": [
    {
     "name": "stdout",
     "output_type": "stream",
     "text": [
      "Tests Passed\n"
     ]
    }
   ],
   "source": [
    "def one_hot_encode(x):\n",
    "    \"\"\"\n",
    "    One hot encode a list of sample labels. Return a one-hot encoded vector for each label.\n",
    "    : x: List of sample Labels\n",
    "    : return: Numpy array of one-hot encoded labels\n",
    "    \"\"\"\n",
    "    # TODO: Implement Function\n",
    "    list = []\n",
    "    for i in x:\n",
    "        list.append(encode(i))\n",
    "\n",
    "    return np.array(list)\n",
    "\n",
    "\n",
    "\"\"\"\n",
    "DON'T MODIFY ANYTHING IN THIS CELL THAT IS BELOW THIS LINE\n",
    "\"\"\"\n",
    "tests.test_one_hot_encode(one_hot_encode)"
   ]
  },
  {
   "cell_type": "markdown",
   "metadata": {},
   "source": [
    "### Randomize Data\n",
    "As you saw from exploring the data above, the order of the samples are randomized.  It doesn't hurt to randomize it again, but you don't need to for this dataset."
   ]
  },
  {
   "cell_type": "markdown",
   "metadata": {},
   "source": [
    "## Preprocess all the data and save it\n",
    "Running the code cell below will preprocess all the CIFAR-10 data and save it to file. The code below also uses 10% of the training data for validation."
   ]
  },
  {
   "cell_type": "code",
   "execution_count": 35,
   "metadata": {
    "collapsed": true
   },
   "outputs": [],
   "source": [
    "\"\"\"\n",
    "DON'T MODIFY ANYTHING IN THIS CELL\n",
    "\"\"\"\n",
    "# Preprocess Training, Validation, and Testing Data\n",
    "helper.preprocess_and_save_data(cifar10_dataset_folder_path, normalize, one_hot_encode)"
   ]
  },
  {
   "cell_type": "markdown",
   "metadata": {},
   "source": [
    "# Check Point\n",
    "This is your first checkpoint.  If you ever decide to come back to this notebook or have to restart the notebook, you can start from here.  The preprocessed data has been saved to disk."
   ]
  },
  {
   "cell_type": "code",
   "execution_count": 36,
   "metadata": {
    "collapsed": true
   },
   "outputs": [],
   "source": [
    "\"\"\"\n",
    "DON'T MODIFY ANYTHING IN THIS CELL\n",
    "\"\"\"\n",
    "import pickle\n",
    "import problem_unittests as tests\n",
    "import helper\n",
    "\n",
    "# Load the Preprocessed Validation data\n",
    "valid_features, valid_labels = pickle.load(open('preprocess_validation.p', mode='rb'))"
   ]
  },
  {
   "cell_type": "markdown",
   "metadata": {},
   "source": [
    "## Build the network\n",
    "For the neural network, you'll build each layer into a function.  Most of the code you've seen has been outside of functions. To test your code more thoroughly, we require that you put each layer in a function.  This allows us to give you better feedback and test for simple mistakes using our unittests before you submit your project.\n",
    "\n",
    ">**Note:** If you're finding it hard to dedicate enough time for this course each week, we've provided a small shortcut to this part of the project. In the next couple of problems, you'll have the option to use classes from the [TensorFlow Layers](https://www.tensorflow.org/api_docs/python/tf/layers) or [TensorFlow Layers (contrib)](https://www.tensorflow.org/api_guides/python/contrib.layers) packages to build each layer, except the layers you build in the \"Convolutional and Max Pooling Layer\" section.  TF Layers is similar to Keras's and TFLearn's abstraction to layers, so it's easy to pickup.\n",
    "\n",
    ">However, if you would like to get the most out of this course, try to solve all the problems _without_ using anything from the TF Layers packages. You **can** still use classes from other packages that happen to have the same name as ones you find in TF Layers! For example, instead of using the TF Layers version of the `conv2d` class, [tf.layers.conv2d](https://www.tensorflow.org/api_docs/python/tf/layers/conv2d), you would want to use the TF Neural Network version of `conv2d`, [tf.nn.conv2d](https://www.tensorflow.org/api_docs/python/tf/nn/conv2d). \n",
    "\n",
    "Let's begin!\n",
    "\n",
    "### Input\n",
    "The neural network needs to read the image data, one-hot encoded labels, and dropout keep probability. Implement the following functions\n",
    "* Implement `neural_net_image_input`\n",
    " * Return a [TF Placeholder](https://www.tensorflow.org/api_docs/python/tf/placeholder)\n",
    " * Set the shape using `image_shape` with batch size set to `None`.\n",
    " * Name the TensorFlow placeholder \"x\" using the TensorFlow `name` parameter in the [TF Placeholder](https://www.tensorflow.org/api_docs/python/tf/placeholder).\n",
    "* Implement `neural_net_label_input`\n",
    " * Return a [TF Placeholder](https://www.tensorflow.org/api_docs/python/tf/placeholder)\n",
    " * Set the shape using `n_classes` with batch size set to `None`.\n",
    " * Name the TensorFlow placeholder \"y\" using the TensorFlow `name` parameter in the [TF Placeholder](https://www.tensorflow.org/api_docs/python/tf/placeholder).\n",
    "* Implement `neural_net_keep_prob_input`\n",
    " * Return a [TF Placeholder](https://www.tensorflow.org/api_docs/python/tf/placeholder) for dropout keep probability.\n",
    " * Name the TensorFlow placeholder \"keep_prob\" using the TensorFlow `name` parameter in the [TF Placeholder](https://www.tensorflow.org/api_docs/python/tf/placeholder).\n",
    "\n",
    "These names will be used at the end of the project to load your saved model.\n",
    "\n",
    "Note: `None` for shapes in TensorFlow allow for a dynamic size."
   ]
  },
  {
   "cell_type": "code",
   "execution_count": 37,
   "metadata": {},
   "outputs": [
    {
     "name": "stdout",
     "output_type": "stream",
     "text": [
      "Image Input Tests Passed.\n",
      "Label Input Tests Passed.\n",
      "Keep Prob Tests Passed.\n"
     ]
    }
   ],
   "source": [
    "import tensorflow as tf\n",
    "\n",
    "def neural_net_image_input(image_shape):\n",
    "    \"\"\"\n",
    "    Return a Tensor for a batch of image input\n",
    "    : image_shape: Shape of the images\n",
    "    : return: Tensor for image input.\n",
    "    \"\"\"\n",
    "    # TODO: Implement Function\n",
    "    return tf.placeholder(tf.float32, shape=[None, image_shape[0], image_shape[1], image_shape[2]], name='x')\n",
    "\n",
    "\n",
    "def neural_net_label_input(n_classes):\n",
    "    \"\"\"\n",
    "    Return a Tensor for a batch of label input\n",
    "    : n_classes: Number of classes\n",
    "    : return: Tensor for label input.\n",
    "    \"\"\"\n",
    "    # TODO: Implement Function\n",
    "    return tf.placeholder(tf.float32, shape=[None, n_classes], name='y')\n",
    "\n",
    "\n",
    "def neural_net_keep_prob_input():\n",
    "    \"\"\"\n",
    "    Return a Tensor for keep probability\n",
    "    : return: Tensor for keep probability.\n",
    "    \"\"\"\n",
    "    # TODO: Implement Function\n",
    "    return tf.placeholder(tf.float32, name='keep_prob')\n",
    "\n",
    "\n",
    "\"\"\"\n",
    "DON'T MODIFY ANYTHING IN THIS CELL THAT IS BELOW THIS LINE\n",
    "\"\"\"\n",
    "tf.reset_default_graph()\n",
    "tests.test_nn_image_inputs(neural_net_image_input)\n",
    "tests.test_nn_label_inputs(neural_net_label_input)\n",
    "tests.test_nn_keep_prob_inputs(neural_net_keep_prob_input)"
   ]
  },
  {
   "cell_type": "markdown",
   "metadata": {},
   "source": [
    "### Convolution and Max Pooling Layer\n",
    "Convolution layers have a lot of success with images. For this code cell, you should implement the function `conv2d_maxpool` to apply convolution then max pooling:\n",
    "* Create the weight and bias using `conv_ksize`, `conv_num_outputs` and the shape of `x_tensor`.\n",
    "* Apply a convolution to `x_tensor` using weight and `conv_strides`.\n",
    " * We recommend you use same padding, but you're welcome to use any padding.\n",
    "* Add bias\n",
    "* Add a nonlinear activation to the convolution.\n",
    "* Apply Max Pooling using `pool_ksize` and `pool_strides`.\n",
    " * We recommend you use same padding, but you're welcome to use any padding.\n",
    "\n",
    "**Note:** You **can't** use [TensorFlow Layers](https://www.tensorflow.org/api_docs/python/tf/layers) or [TensorFlow Layers (contrib)](https://www.tensorflow.org/api_guides/python/contrib.layers) for **this** layer, but you can still use TensorFlow's [Neural Network](https://www.tensorflow.org/api_docs/python/tf/nn) package. You may still use the shortcut option for all the **other** layers."
   ]
  },
  {
   "cell_type": "code",
   "execution_count": 38,
   "metadata": {},
   "outputs": [
    {
     "name": "stdout",
     "output_type": "stream",
     "text": [
      "Tests Passed\n"
     ]
    }
   ],
   "source": [
    "def conv2d_maxpool(x_tensor, conv_num_outputs, conv_ksize, conv_strides, pool_ksize, pool_strides):\n",
    "    \"\"\"\n",
    "    Apply convolution then max pooling to x_tensor\n",
    "    :param x_tensor: TensorFlow Tensor\n",
    "    :param conv_num_outputs: Number of outputs for the convolutional layer\n",
    "    :param conv_ksize: kernal size 2-D Tuple for the convolutional layer\n",
    "    :param conv_strides: Stride 2-D Tuple for convolution\n",
    "    :param pool_ksize: kernal size 2-D Tuple for pool\n",
    "    :param pool_strides: Stride 2-D Tuple for pool\n",
    "    : return: A tensor that represents convolution and max pooling of x_tensor\n",
    "    \"\"\"\n",
    "    # TODO: Implement Function\n",
    "    weight = tf.Variable(tf.truncated_normal([conv_ksize[0], conv_ksize[1], \\\n",
    "                    x_tensor.get_shape().as_list()[3], conv_num_outputs], stddev=0.3))\n",
    "    \n",
    "    bias   = tf.Variable(tf.truncated_normal([conv_num_outputs], stddev=0.3))\n",
    "    \n",
    "    x_tensor = tf.nn.conv2d(x_tensor, weight, [1, conv_strides[0], conv_strides[1], 1], \\\n",
    "                    padding='SAME')\n",
    "    \n",
    "    x_tensor = tf.nn.bias_add(x_tensor, bias)\n",
    "    \n",
    "    x_tensor = tf.nn.softmax(x_tensor)\n",
    "    \n",
    "    x_tensor = tf.nn.max_pool(x_tensor, [1, pool_ksize[0], pool_ksize[1], 1], \\\n",
    "                              [1, pool_strides[0], pool_strides[1], 1], padding='SAME')\n",
    "    return x_tensor\n",
    "\n",
    "\n",
    "\"\"\"\n",
    "DON'T MODIFY ANYTHING IN THIS CELL THAT IS BELOW THIS LINE\n",
    "\"\"\"\n",
    "tests.test_con_pool(conv2d_maxpool)"
   ]
  },
  {
   "cell_type": "markdown",
   "metadata": {},
   "source": [
    "### Flatten Layer\n",
    "Implement the `flatten` function to change the dimension of `x_tensor` from a 4-D tensor to a 2-D tensor.  The output should be the shape (*Batch Size*, *Flattened Image Size*). Shortcut option: you can use classes from the [TensorFlow Layers](https://www.tensorflow.org/api_docs/python/tf/layers) or [TensorFlow Layers (contrib)](https://www.tensorflow.org/api_guides/python/contrib.layers) packages for this layer. For more of a challenge, only use other TensorFlow packages."
   ]
  },
  {
   "cell_type": "code",
   "execution_count": 39,
   "metadata": {},
   "outputs": [
    {
     "name": "stdout",
     "output_type": "stream",
     "text": [
      "Tests Passed\n"
     ]
    }
   ],
   "source": [
    "def flatten(x_tensor):\n",
    "    \"\"\"\n",
    "    Flatten x_tensor to (Batch Size, Flattened Image Size)\n",
    "    : x_tensor: A tensor of size (Batch Size, ...), where ... are the image dimensions.\n",
    "    : return: A tensor of size (Batch Size, Flattened Image Size).\n",
    "    \"\"\"\n",
    "    # TODO: Implement Function\n",
    "    return tf.contrib.layers.flatten(x_tensor)\n",
    "\n",
    "\n",
    "\n",
    "\"\"\"\n",
    "DON'T MODIFY ANYTHING IN THIS CELL THAT IS BELOW THIS LINE\n",
    "\"\"\"\n",
    "tests.test_flatten(flatten)"
   ]
  },
  {
   "cell_type": "markdown",
   "metadata": {},
   "source": [
    "### Fully-Connected Layer\n",
    "Implement the `fully_conn` function to apply a fully connected layer to `x_tensor` with the shape (*Batch Size*, *num_outputs*). Shortcut option: you can use classes from the [TensorFlow Layers](https://www.tensorflow.org/api_docs/python/tf/layers) or [TensorFlow Layers (contrib)](https://www.tensorflow.org/api_guides/python/contrib.layers) packages for this layer. For more of a challenge, only use other TensorFlow packages."
   ]
  },
  {
   "cell_type": "code",
   "execution_count": 42,
   "metadata": {},
   "outputs": [
    {
     "name": "stdout",
     "output_type": "stream",
     "text": [
      "Tests Passed\n"
     ]
    }
   ],
   "source": [
    "def fully_conn(x_tensor, num_outputs):\n",
    "    \"\"\"\n",
    "    Apply a fully connected layer to x_tensor using weight and bias\n",
    "    : x_tensor: A 2-D tensor where the first dimension is batch size.\n",
    "    : num_outputs: The number of output that the new tensor should be.\n",
    "    : return: A 2-D tensor where the second dimension is num_outputs.\n",
    "    \"\"\"\n",
    "    # TODO: Implement Function\n",
    "    return tf.contrib.layers.fully_connected(x_tensor, num_outputs, tf.nn.tanh)\n",
    "\n",
    "\n",
    "\"\"\"\n",
    "DON'T MODIFY ANYTHING IN THIS CELL THAT IS BELOW THIS LINE\n",
    "\"\"\"\n",
    "tests.test_fully_conn(fully_conn)"
   ]
  },
  {
   "cell_type": "markdown",
   "metadata": {},
   "source": [
    "### Output Layer\n",
    "Implement the `output` function to apply a fully connected layer to `x_tensor` with the shape (*Batch Size*, *num_outputs*). Shortcut option: you can use classes from the [TensorFlow Layers](https://www.tensorflow.org/api_docs/python/tf/layers) or [TensorFlow Layers (contrib)](https://www.tensorflow.org/api_guides/python/contrib.layers) packages for this layer. For more of a challenge, only use other TensorFlow packages.\n",
    "\n",
    "**Note:** Activation, softmax, or cross entropy should **not** be applied to this."
   ]
  },
  {
   "cell_type": "code",
   "execution_count": 43,
   "metadata": {},
   "outputs": [
    {
     "name": "stdout",
     "output_type": "stream",
     "text": [
      "Tests Passed\n"
     ]
    }
   ],
   "source": [
    "def output(x_tensor, num_outputs):\n",
    "    \"\"\"\n",
    "    Apply a output layer to x_tensor using weight and bias\n",
    "    : x_tensor: A 2-D tensor where the first dimension is batch size.\n",
    "    : num_outputs: The number of output that the new tensor should be.\n",
    "    : return: A 2-D tensor where the second dimension is num_outputs.\n",
    "    \"\"\"\n",
    "    # TODO: Implement Function\n",
    "    return tf.contrib.layers.fully_connected(x_tensor, num_outputs)\n",
    "\n",
    "\n",
    "\"\"\"\n",
    "DON'T MODIFY ANYTHING IN THIS CELL THAT IS BELOW THIS LINE\n",
    "\"\"\"\n",
    "tests.test_output(output)"
   ]
  },
  {
   "cell_type": "markdown",
   "metadata": {},
   "source": [
    "### Create Convolutional Model\n",
    "Implement the function `conv_net` to create a convolutional neural network model. The function takes in a batch of images, `x`, and outputs logits.  Use the layers you created above to create this model:\n",
    "\n",
    "* Apply 1, 2, or 3 Convolution and Max Pool layers\n",
    "* Apply a Flatten Layer\n",
    "* Apply 1, 2, or 3 Fully Connected Layers\n",
    "* Apply an Output Layer\n",
    "* Return the output\n",
    "* Apply [TensorFlow's Dropout](https://www.tensorflow.org/api_docs/python/tf/nn/dropout) to one or more layers in the model using `keep_prob`. "
   ]
  },
  {
   "cell_type": "code",
   "execution_count": 44,
   "metadata": {},
   "outputs": [
    {
     "name": "stdout",
     "output_type": "stream",
     "text": [
      "Neural Network Built!\n"
     ]
    }
   ],
   "source": [
    "def conv_net(x, keep_prob):\n",
    "    \"\"\"\n",
    "    Create a convolutional neural network model\n",
    "    : x: Placeholder tensor that holds image data.\n",
    "    : keep_prob: Placeholder tensor that hold dropout keep probability.\n",
    "    : return: Tensor that represents logits\n",
    "    \"\"\"\n",
    "    \n",
    "    ### PARAMETERS\n",
    "    \n",
    "    conv_ksize       = (8, 8)\n",
    "    conv_strides     = (conv_ksize[0]/2, conv_ksize[1]/2) # (4, 4)\n",
    "    conv_num_outputs = conv_ksize[0]*conv_ksize[1]        # 64\n",
    "    \n",
    "    pool_ksize       = (conv_strides[0], conv_strides[1]) # (4, 4)\n",
    "    pool_strides     = (pool_ksize[0]/2, pool_ksize[1]/2) # (2, 2)\n",
    "    \n",
    "    num_outputs      = 10\n",
    "    \n",
    "    \n",
    "    # TODO: Apply 1, 2, or 3 Convolution and Max Pool layers\n",
    "    #    Play around with different number of outputs, kernel size and stride\n",
    "    # Function Definition from Above:\n",
    "    #    conv2d_maxpool(x_tensor, conv_num_outputs, conv_ksize, conv_strides, pool_ksize, pool_strides)\n",
    "    \n",
    "    conv2d_maxpool_layer_1 = conv2d_maxpool(x, \\\n",
    "                                conv_num_outputs, conv_ksize, conv_strides, \\\n",
    "                                pool_ksize, pool_strides)\n",
    "    \n",
    "    conv2d_maxpool_layer_2 = conv2d_maxpool(conv2d_maxpool_layer_1, \\\n",
    "                                conv_num_outputs, conv_ksize, conv_strides, \\\n",
    "                                pool_ksize, pool_strides)\n",
    "    \n",
    "    conv2d_maxpool_layer_3 = conv2d_maxpool(conv2d_maxpool_layer_2, \\\n",
    "                                conv_num_outputs, conv_ksize, conv_strides, \\\n",
    "                                pool_ksize, pool_strides)\n",
    "    \n",
    "\n",
    "    # TODO: Apply a Flatten Layer\n",
    "    # Function Definition from Above:\n",
    "    #   flatten(x_tensor)\n",
    "    \n",
    "    \n",
    "    flatten_layer = flatten(conv2d_maxpool_layer_3)\n",
    "    flatten_layer = tf.nn.dropout(flatten_layer, keep_prob)\n",
    "    \n",
    "    \n",
    "\n",
    "    # TODO: Apply 1, 2, or 3 Fully Connected Layers\n",
    "    #    Play around with different number of outputs\n",
    "    # Function Definition from Above:\n",
    "    #   fully_conn(x_tensor, num_outputs)\n",
    "    \n",
    "    \n",
    "    fully_conn_layer = fully_conn(flatten_layer, num_outputs*2)\n",
    "    fully_conn_layer = tf.nn.dropout(fully_conn_layer, keep_prob)\n",
    "    \n",
    "    \n",
    "    # TODO: Apply an Output Layer\n",
    "    #    Set this to the number of classes\n",
    "    # Function Definition from Above:\n",
    "    #   output(x_tensor, num_outputs)\n",
    "    \n",
    "    output_layer = output(fully_conn_layer, num_outputs)\n",
    "    \n",
    "    \n",
    "    # TODO: return output\n",
    "    \n",
    "    return output_layer\n",
    "\n",
    "\n",
    "\"\"\"\n",
    "DON'T MODIFY ANYTHING IN THIS CELL THAT IS BELOW THIS LINE\n",
    "\"\"\"\n",
    "\n",
    "##############################\n",
    "## Build the Neural Network ##\n",
    "##############################\n",
    "\n",
    "# Remove previous weights, bias, inputs, etc..\n",
    "tf.reset_default_graph()\n",
    "\n",
    "# Inputs\n",
    "x = neural_net_image_input((32, 32, 3))\n",
    "y = neural_net_label_input(10)\n",
    "keep_prob = neural_net_keep_prob_input()\n",
    "\n",
    "# Model\n",
    "logits = conv_net(x, keep_prob)\n",
    "\n",
    "# Name logits Tensor, so that is can be loaded from disk after training\n",
    "logits = tf.identity(logits, name='logits')\n",
    "\n",
    "# Loss and Optimizer\n",
    "cost = tf.reduce_mean(tf.nn.softmax_cross_entropy_with_logits(logits=logits, labels=y))\n",
    "optimizer = tf.train.AdamOptimizer().minimize(cost)\n",
    "\n",
    "# Accuracy\n",
    "correct_pred = tf.equal(tf.argmax(logits, 1), tf.argmax(y, 1))\n",
    "accuracy = tf.reduce_mean(tf.cast(correct_pred, tf.float32), name='accuracy')\n",
    "\n",
    "tests.test_conv_net(conv_net)"
   ]
  },
  {
   "cell_type": "markdown",
   "metadata": {},
   "source": [
    "## Train the Neural Network\n",
    "### Single Optimization\n",
    "Implement the function `train_neural_network` to do a single optimization.  The optimization should use `optimizer` to optimize in `session` with a `feed_dict` of the following:\n",
    "* `x` for image input\n",
    "* `y` for labels\n",
    "* `keep_prob` for keep probability for dropout\n",
    "\n",
    "This function will be called for each batch, so `tf.global_variables_initializer()` has already been called.\n",
    "\n",
    "Note: Nothing needs to be returned. This function is only optimizing the neural network."
   ]
  },
  {
   "cell_type": "code",
   "execution_count": 45,
   "metadata": {},
   "outputs": [
    {
     "name": "stdout",
     "output_type": "stream",
     "text": [
      "Tests Passed\n"
     ]
    }
   ],
   "source": [
    "def train_neural_network(session, optimizer, keep_probability, feature_batch, label_batch):\n",
    "    \"\"\"\n",
    "    Optimize the session on a batch of images and labels\n",
    "    : session: Current TensorFlow session\n",
    "    : optimizer: TensorFlow optimizer function\n",
    "    : keep_probability: keep probability\n",
    "    : feature_batch: Batch of Numpy image data\n",
    "    : label_batch: Batch of Numpy label data\n",
    "    \"\"\"\n",
    "    # TODO: Implement Function\n",
    "    \n",
    "    \n",
    "    session.run(optimizer, feed_dict={x: feature_batch, \\\n",
    "                                      y: label_batch, \\\n",
    "                                      keep_prob: keep_probability})\n",
    "    \n",
    "    pass\n",
    "\n",
    "\n",
    "\"\"\"\n",
    "DON'T MODIFY ANYTHING IN THIS CELL THAT IS BELOW THIS LINE\n",
    "\"\"\"\n",
    "tests.test_train_nn(train_neural_network)"
   ]
  },
  {
   "cell_type": "markdown",
   "metadata": {},
   "source": [
    "### Show Stats\n",
    "Implement the function `print_stats` to print loss and validation accuracy.  Use the global variables `valid_features` and `valid_labels` to calculate validation accuracy.  Use a keep probability of `1.0` to calculate the loss and validation accuracy."
   ]
  },
  {
   "cell_type": "code",
   "execution_count": 46,
   "metadata": {
    "collapsed": true
   },
   "outputs": [],
   "source": [
    "def print_stats(session, feature_batch, label_batch, cost, accuracy):\n",
    "    \"\"\"\n",
    "    Print information about loss and validation accuracy\n",
    "    : session: Current TensorFlow session\n",
    "    : feature_batch: Batch of Numpy image data\n",
    "    : label_batch: Batch of Numpy label data\n",
    "    : cost: TensorFlow cost function\n",
    "    : accuracy: TensorFlow accuracy function\n",
    "    \"\"\"\n",
    "    # TODO: Implement Function\n",
    "    \n",
    "    loss = session.run(cost, feed_dict={x: feature_batch, y: label_batch, keep_prob: 1. })\n",
    "    \n",
    "    accur = session.run(accuracy, feed_dict={x: feature_batch, y: label_batch, keep_prob: 1.})\n",
    "    \n",
    "    print('Loss: {:.4f}  Validation Accuracy: {:.2f}%'.format(loss, accur*100), end='\\r')\n",
    "    \n",
    "    pass"
   ]
  },
  {
   "cell_type": "markdown",
   "metadata": {},
   "source": [
    "### Hyperparameters\n",
    "Tune the following parameters:\n",
    "* Set `epochs` to the number of iterations until the network stops learning or start overfitting\n",
    "* Set `batch_size` to the highest number that your machine has memory for.  Most people set them to common sizes of memory:\n",
    " * 64\n",
    " * 128\n",
    " * 256\n",
    " * ...\n",
    "* Set `keep_probability` to the probability of keeping a node using dropout"
   ]
  },
  {
   "cell_type": "code",
   "execution_count": 56,
   "metadata": {
    "collapsed": true
   },
   "outputs": [],
   "source": [
    "# TODO: Tune Parameters\n",
    "epochs = 400\n",
    "batch_size = 2048\n",
    "keep_probability = 0.8"
   ]
  },
  {
   "cell_type": "markdown",
   "metadata": {},
   "source": [
    "### Train on a Single CIFAR-10 Batch\n",
    "Instead of training the neural network on all the CIFAR-10 batches of data, let's use a single batch. This should save time while you iterate on the model to get a better accuracy.  Once the final validation accuracy is 50% or greater, run the model on all the data in the next section."
   ]
  },
  {
   "cell_type": "code",
   "execution_count": 57,
   "metadata": {},
   "outputs": [
    {
     "name": "stdout",
     "output_type": "stream",
     "text": [
      "Checking the Training on a Single Batch...\n"
     ]
    },
    {
     "name": "stdout",
     "output_type": "stream",
     "text": [
      "Epoch 199, CIFAR-10 Batch 1:  oss: 2.3029  Validation Accuracy: 9.41%Loss: 2.3027  Validation Accuracy: 10.27%Loss: 2.3024  Validation Accuracy: 10.27%Loss: 2.3023  Validation Accuracy: 10.27%Loss: 2.3020  Validation Accuracy: 10.27%Loss: 2.3018  Validation Accuracy: 10.27%Loss: 2.3015  Validation Accuracy: 15.84%Loss: 2.3012  Validation Accuracy: 17.08%Loss: 2.3008  Validation Accuracy: 15.35%Loss: 2.3004  Validation Accuracy: 15.10%Loss: 2.2999  Validation Accuracy: 16.96%Loss: 2.2994  Validation Accuracy: 17.08%Loss: 2.2988  Validation Accuracy: 17.33%Loss: 2.2980  Validation Accuracy: 17.70%Loss: 2.2970  Validation Accuracy: 17.95%Loss: 2.2958  Validation Accuracy: 17.95%Loss: 2.2943  Validation Accuracy: 15.84%Loss: 2.2926  Validation Accuracy: 16.46%Loss: 2.2907  Validation Accuracy: 15.59%Loss: 2.2887  Validation Accuracy: 15.97%Loss: 2.2864  Validation Accuracy: 15.97%Loss: 2.2839  Validation Accuracy: 15.84%Loss: 2.2812  Validation Accuracy: 15.84%Loss: 2.2783  Validation Accuracy: 15.97%Loss: 2.2750  Validation Accuracy: 15.97%Loss: 2.2714  Validation Accuracy: 15.84%Loss: 2.2657  Validation Accuracy: 15.84%Loss: 2.2597  Validation Accuracy: 15.84%Loss: 2.2534  Validation Accuracy: 15.97%Loss: 2.2468  Validation Accuracy: 16.46%Loss: 2.2397  Validation Accuracy: 16.58%Loss: 2.2324  Validation Accuracy: 16.34%Loss: 2.2235  Validation Accuracy: 16.46%Loss: 2.2154  Validation Accuracy: 16.21%Loss: 2.2080  Validation Accuracy: 16.34%Loss: 2.1996  Validation Accuracy: 16.21%Loss: 2.1910  Validation Accuracy: 16.09%Loss: 2.1821  Validation Accuracy: 16.21%Loss: 2.1740  Validation Accuracy: 16.21%Loss: 2.1662  Validation Accuracy: 16.21%Loss: 2.1566  Validation Accuracy: 16.21%Loss: 2.1450  Validation Accuracy: 16.21%Loss: 2.1350  Validation Accuracy: 16.46%Loss: 2.1252  Validation Accuracy: 16.83%Loss: 2.1159  Validation Accuracy: 16.58%Loss: 2.1061  Validation Accuracy: 16.96%Loss: 2.0973  Validation Accuracy: 16.96%Loss: 2.0898  Validation Accuracy: 16.96%Loss: 2.0810  Validation Accuracy: 17.33%Loss: 2.0728  Validation Accuracy: 18.07%Loss: 2.0679  Validation Accuracy: 17.45%Loss: 2.0604  Validation Accuracy: 17.82%Loss: 2.0485  Validation Accuracy: 19.18%Loss: 2.0355  Validation Accuracy: 19.31%Loss: 2.0245  Validation Accuracy: 19.93%Loss: 2.0146  Validation Accuracy: 19.93%Loss: 2.0031  Validation Accuracy: 19.93%Loss: 1.9944  Validation Accuracy: 20.30%Loss: 1.9864  Validation Accuracy: 19.93%Loss: 1.9774  Validation Accuracy: 19.93%Loss: 1.9690  Validation Accuracy: 20.17%Loss: 1.9606  Validation Accuracy: 20.17%Loss: 1.9532  Validation Accuracy: 20.30%Loss: 1.9470  Validation Accuracy: 19.68%Loss: 1.9412  Validation Accuracy: 20.30%Loss: 1.9358  Validation Accuracy: 20.79%Loss: 1.9293  Validation Accuracy: 21.16%Loss: 1.9245  Validation Accuracy: 19.80%Loss: 1.9204  Validation Accuracy: 19.55%Loss: 1.9153  Validation Accuracy: 19.68%Loss: 1.9116  Validation Accuracy: 19.55%Loss: 1.9080  Validation Accuracy: 19.68%Loss: 1.9040  Validation Accuracy: 20.05%Loss: 1.9001  Validation Accuracy: 20.54%Loss: 1.8967  Validation Accuracy: 21.04%Loss: 1.8935  Validation Accuracy: 21.04%Loss: 1.8906  Validation Accuracy: 21.16%Loss: 1.8872  Validation Accuracy: 21.16%Loss: 1.8842  Validation Accuracy: 21.16%Loss: 1.8817  Validation Accuracy: 21.53%Loss: 1.8787  Validation Accuracy: 21.66%Loss: 1.8759  Validation Accuracy: 21.66%Loss: 1.8735  Validation Accuracy: 21.53%Loss: 1.8712  Validation Accuracy: 21.41%Loss: 1.8682  Validation Accuracy: 21.78%Loss: 1.8660  Validation Accuracy: 21.53%Loss: 1.8638  Validation Accuracy: 21.41%Loss: 1.8617  Validation Accuracy: 21.29%Loss: 1.8594  Validation Accuracy: 21.53%Loss: 1.8600  Validation Accuracy: 21.91%Loss: 1.8546  Validation Accuracy: 21.41%Loss: 1.8528  Validation Accuracy: 21.53%Loss: 1.8503  Validation Accuracy: 21.91%Loss: 1.8487  Validation Accuracy: 21.53%Loss: 1.8459  Validation Accuracy: 21.41%Loss: 1.8431  Validation Accuracy: 21.29%Loss: 1.8411  Validation Accuracy: 21.41%Loss: 1.8393  Validation Accuracy: 21.66%Loss: 1.8378  Validation Accuracy: 21.91%Loss: 1.8347  Validation Accuracy: 21.53%Loss: 1.8333  Validation Accuracy: 21.78%Loss: 1.8314  Validation Accuracy: 21.66%Loss: 1.8294  Validation Accuracy: 21.41%Loss: 1.8271  Validation Accuracy: 21.29%Loss: 1.8251  Validation Accuracy: 21.29%Loss: 1.8231  Validation Accuracy: 21.41%Loss: 1.8212  Validation Accuracy: 21.53%Loss: 1.8202  Validation Accuracy: 21.66%Loss: 1.8193  Validation Accuracy: 21.41%Loss: 1.8187  Validation Accuracy: 21.66%Loss: 1.8151  Validation Accuracy: 21.53%Loss: 1.8136  Validation Accuracy: 21.78%Loss: 1.8114  Validation Accuracy: 21.16%Loss: 1.8099  Validation Accuracy: 21.53%Loss: 1.8086  Validation Accuracy: 21.66%Loss: 1.8073  Validation Accuracy: 21.91%Loss: 1.8066  Validation Accuracy: 22.28%Loss: 1.8051  Validation Accuracy: 22.03%Loss: 1.8033  Validation Accuracy: 22.15%Loss: 1.8027  Validation Accuracy: 22.15%Loss: 1.8020  Validation Accuracy: 22.28%Loss: 1.8001  Validation Accuracy: 22.65%Loss: 1.7983  Validation Accuracy: 21.91%Loss: 1.7970  Validation Accuracy: 22.28%Loss: 1.7957  Validation Accuracy: 22.40%Loss: 1.7947  Validation Accuracy: 22.28%Loss: 1.7945  Validation Accuracy: 23.27%Loss: 1.7923  Validation Accuracy: 24.26%Loss: 1.7906  Validation Accuracy: 23.39%Loss: 1.7890  Validation Accuracy: 23.64%Loss: 1.7868  Validation Accuracy: 24.13%Loss: 1.7849  Validation Accuracy: 24.01%Loss: 1.7829  Validation Accuracy: 24.38%Loss: 1.7814  Validation Accuracy: 24.13%Loss: 1.7783  Validation Accuracy: 23.89%Loss: 1.7752  Validation Accuracy: 24.75%Loss: 1.7720  Validation Accuracy: 23.89%Loss: 1.7693  Validation Accuracy: 24.26%Loss: 1.7669  Validation Accuracy: 24.38%Loss: 1.7647  Validation Accuracy: 24.63%Loss: 1.7625  Validation Accuracy: 24.75%Loss: 1.7594  Validation Accuracy: 24.75%Loss: 1.7572  Validation Accuracy: 24.88%Loss: 1.7543  Validation Accuracy: 25.50%Loss: 1.7517  Validation Accuracy: 26.11%Loss: 1.7494  Validation Accuracy: 26.11%Loss: 1.7470  Validation Accuracy: 26.11%Loss: 1.7442  Validation Accuracy: 26.36%Loss: 1.7424  Validation Accuracy: 27.23%Loss: 1.7402  Validation Accuracy: 27.60%Loss: 1.7373  Validation Accuracy: 27.60%Loss: 1.7344  Validation Accuracy: 28.47%Loss: 1.7326  Validation Accuracy: 29.08%Loss: 1.7309  Validation Accuracy: 29.95%Loss: 1.7287  Validation Accuracy: 29.95%Loss: 1.7252  Validation Accuracy: 29.70%Loss: 1.7216  Validation Accuracy: 30.20%Loss: 1.7187  Validation Accuracy: 30.94%Loss: 1.7161  Validation Accuracy: 31.56%Loss: 1.7142  Validation Accuracy: 30.82%Loss: 1.7118  Validation Accuracy: 30.94%Loss: 1.7110  Validation Accuracy: 32.05%Loss: 1.7067  Validation Accuracy: 30.94%Loss: 1.7040  Validation Accuracy: 30.94%Loss: 1.7012  Validation Accuracy: 31.31%Loss: 1.6982  Validation Accuracy: 31.19%Loss: 1.6956  Validation Accuracy: 31.81%Loss: 1.6938  Validation Accuracy: 32.30%Loss: 1.6929  Validation Accuracy: 32.18%Loss: 1.6906  Validation Accuracy: 31.93%Loss: 1.6860  Validation Accuracy: 32.05%Loss: 1.6829  Validation Accuracy: 31.31%Loss: 1.6803  Validation Accuracy: 31.56%Loss: 1.6785  Validation Accuracy: 31.19%Loss: 1.6769  Validation Accuracy: 31.44%Loss: 1.6741  Validation Accuracy: 31.31%Loss: 1.6715  Validation Accuracy: 31.68%Loss: 1.6685  Validation Accuracy: 32.43%Loss: 1.6651  Validation Accuracy: 32.55%Loss: 1.6629  Validation Accuracy: 32.80%Loss: 1.6611  Validation Accuracy: 32.67%Loss: 1.6580  Validation Accuracy: 33.04%Loss: 1.6555  Validation Accuracy: 33.04%Loss: 1.6534  Validation Accuracy: 32.55%Loss: 1.6505  Validation Accuracy: 33.17%Loss: 1.6477  Validation Accuracy: 33.29%Loss: 1.6450  Validation Accuracy: 33.04%Loss: 1.6426  Validation Accuracy: 33.66%Loss: 1.6402  Validation Accuracy: 32.92%Loss: 1.6379  Validation Accuracy: 33.54%Loss: 1.6360  Validation Accuracy: 33.91%Loss: 1.6336  Validation Accuracy: 34.03%Loss: 1.6305  Validation Accuracy: 34.41%Loss: 1.6284  Validation Accuracy: 34.16%Loss: 1.6264  Validation Accuracy: 33.79%Loss: 1.6257  Validation Accuracy: 33.66%Loss: 1.6241  Validation Accuracy: 33.17%Loss: 1.6185  Validation Accuracy: 33.42%Loss: 1.6134  Validation Accuracy: 35.02%\r",
      "Epoch 200, CIFAR-10 Batch 1:  "
     ]
    },
    {
     "name": "stdout",
     "output_type": "stream",
     "text": [
      "Epoch 399, CIFAR-10 Batch 1:  acy: 34.65%Loss: 1.6081  Validation Accuracy: 34.78%Loss: 1.6046  Validation Accuracy: 34.65%Loss: 1.6005  Validation Accuracy: 35.64%Loss: 1.5973  Validation Accuracy: 35.40%Loss: 1.5948  Validation Accuracy: 35.64%Loss: 1.5928  Validation Accuracy: 35.89%Loss: 1.5893  Validation Accuracy: 36.01%Loss: 1.5862  Validation Accuracy: 36.39%Loss: 1.5837  Validation Accuracy: 36.26%Loss: 1.5807  Validation Accuracy: 36.14%Loss: 1.5778  Validation Accuracy: 35.89%Loss: 1.5756  Validation Accuracy: 35.77%Loss: 1.5728  Validation Accuracy: 35.77%Loss: 1.5708  Validation Accuracy: 35.77%Loss: 1.5704  Validation Accuracy: 35.52%Loss: 1.5678  Validation Accuracy: 36.01%Loss: 1.5655  Validation Accuracy: 35.89%Loss: 1.5613  Validation Accuracy: 36.14%Loss: 1.5561  Validation Accuracy: 36.26%Loss: 1.5533  Validation Accuracy: 36.39%Loss: 1.5511  Validation Accuracy: 37.00%Loss: 1.5511  Validation Accuracy: 36.51%Loss: 1.5501  Validation Accuracy: 36.14%Loss: 1.5487  Validation Accuracy: 36.01%Loss: 1.5433  Validation Accuracy: 36.76%Loss: 1.5369  Validation Accuracy: 36.51%Loss: 1.5333  Validation Accuracy: 38.00%Loss: 1.5307  Validation Accuracy: 37.50%Loss: 1.5324  Validation Accuracy: 37.50%Loss: 1.5284  Validation Accuracy: 38.24%Loss: 1.5248  Validation Accuracy: 38.24%Loss: 1.5186  Validation Accuracy: 38.99%Loss: 1.5156  Validation Accuracy: 38.99%Loss: 1.5133  Validation Accuracy: 38.37%Loss: 1.5111  Validation Accuracy: 39.36%Loss: 1.5072  Validation Accuracy: 38.61%Loss: 1.5037  Validation Accuracy: 39.11%Loss: 1.5002  Validation Accuracy: 39.11%Loss: 1.4978  Validation Accuracy: 39.36%Loss: 1.4962  Validation Accuracy: 38.99%Loss: 1.4939  Validation Accuracy: 39.48%Loss: 1.4900  Validation Accuracy: 40.10%Loss: 1.4857  Validation Accuracy: 39.73%Loss: 1.4828  Validation Accuracy: 40.84%Loss: 1.4803  Validation Accuracy: 41.09%Loss: 1.4779  Validation Accuracy: 40.72%Loss: 1.4738  Validation Accuracy: 41.21%Loss: 1.4713  Validation Accuracy: 41.46%Loss: 1.4674  Validation Accuracy: 40.59%Loss: 1.4645  Validation Accuracy: 41.21%Loss: 1.4612  Validation Accuracy: 41.34%Loss: 1.4586  Validation Accuracy: 41.34%Loss: 1.4560  Validation Accuracy: 41.58%Loss: 1.4524  Validation Accuracy: 41.58%Loss: 1.4496  Validation Accuracy: 41.58%Loss: 1.4471  Validation Accuracy: 41.21%Loss: 1.4453  Validation Accuracy: 41.46%Loss: 1.4416  Validation Accuracy: 40.97%Loss: 1.4406  Validation Accuracy: 40.22%Loss: 1.4366  Validation Accuracy: 41.21%Loss: 1.4322  Validation Accuracy: 41.96%Loss: 1.4281  Validation Accuracy: 42.82%Loss: 1.4257  Validation Accuracy: 43.07%Loss: 1.4245  Validation Accuracy: 42.95%Loss: 1.4220  Validation Accuracy: 43.44%Loss: 1.4204  Validation Accuracy: 43.81%Loss: 1.4149  Validation Accuracy: 44.31%Loss: 1.4100  Validation Accuracy: 43.94%Loss: 1.4092  Validation Accuracy: 43.19%Loss: 1.4100  Validation Accuracy: 43.19%Loss: 1.4120  Validation Accuracy: 42.33%Loss: 1.4049  Validation Accuracy: 43.07%Loss: 1.3981  Validation Accuracy: 43.19%Loss: 1.3937  Validation Accuracy: 44.43%Loss: 1.3954  Validation Accuracy: 44.06%Loss: 1.3908  Validation Accuracy: 45.05%Loss: 1.3861  Validation Accuracy: 44.68%Loss: 1.3828  Validation Accuracy: 44.43%Loss: 1.3829  Validation Accuracy: 44.31%Loss: 1.3816  Validation Accuracy: 43.81%Loss: 1.3790  Validation Accuracy: 43.94%Loss: 1.3737  Validation Accuracy: 45.30%Loss: 1.3736  Validation Accuracy: 45.54%Loss: 1.3730  Validation Accuracy: 44.80%Loss: 1.3665  Validation Accuracy: 45.67%Loss: 1.3637  Validation Accuracy: 45.79%Loss: 1.3638  Validation Accuracy: 45.79%Loss: 1.3641  Validation Accuracy: 44.18%Loss: 1.3561  Validation Accuracy: 46.91%Loss: 1.3547  Validation Accuracy: 46.66%Loss: 1.3536  Validation Accuracy: 46.16%Loss: 1.3493  Validation Accuracy: 47.03%Loss: 1.3462  Validation Accuracy: 47.40%Loss: 1.3451  Validation Accuracy: 46.04%Loss: 1.3421  Validation Accuracy: 47.03%Loss: 1.3392  Validation Accuracy: 47.15%Loss: 1.3358  Validation Accuracy: 47.52%Loss: 1.3341  Validation Accuracy: 47.77%Loss: 1.3310  Validation Accuracy: 47.65%Loss: 1.3279  Validation Accuracy: 49.01%Loss: 1.3247  Validation Accuracy: 48.64%Loss: 1.3218  Validation Accuracy: 48.76%Loss: 1.3207  Validation Accuracy: 48.76%Loss: 1.3194  Validation Accuracy: 48.27%Loss: 1.3193  Validation Accuracy: 47.15%Loss: 1.3168  Validation Accuracy: 48.27%Loss: 1.3113  Validation Accuracy: 48.89%Loss: 1.3070  Validation Accuracy: 49.88%Loss: 1.3054  Validation Accuracy: 49.38%Loss: 1.3070  Validation Accuracy: 48.51%Loss: 1.3072  Validation Accuracy: 47.15%Loss: 1.3027  Validation Accuracy: 48.76%Loss: 1.2975  Validation Accuracy: 48.64%Loss: 1.2938  Validation Accuracy: 51.36%Loss: 1.2931  Validation Accuracy: 50.00%Loss: 1.2933  Validation Accuracy: 50.50%Loss: 1.2952  Validation Accuracy: 49.26%Loss: 1.2877  Validation Accuracy: 49.38%Loss: 1.2861  Validation Accuracy: 49.63%Loss: 1.2821  Validation Accuracy: 49.75%Loss: 1.2824  Validation Accuracy: 50.00%Loss: 1.2862  Validation Accuracy: 48.14%Loss: 1.2898  Validation Accuracy: 47.40%Loss: 1.2786  Validation Accuracy: 49.38%Loss: 1.2727  Validation Accuracy: 50.00%Loss: 1.2832  Validation Accuracy: 50.62%Loss: 1.2777  Validation Accuracy: 50.50%Loss: 1.2685  Validation Accuracy: 50.50%Loss: 1.2670  Validation Accuracy: 50.00%Loss: 1.2653  Validation Accuracy: 50.25%Loss: 1.2613  Validation Accuracy: 51.98%Loss: 1.2594  Validation Accuracy: 51.24%Loss: 1.2592  Validation Accuracy: 50.12%Loss: 1.2565  Validation Accuracy: 50.99%Loss: 1.2546  Validation Accuracy: 50.74%Loss: 1.2526  Validation Accuracy: 50.62%Loss: 1.2499  Validation Accuracy: 50.62%Loss: 1.2477  Validation Accuracy: 51.24%Loss: 1.2469  Validation Accuracy: 51.24%Loss: 1.2447  Validation Accuracy: 51.36%Loss: 1.2425  Validation Accuracy: 51.73%Loss: 1.2420  Validation Accuracy: 51.11%Loss: 1.2391  Validation Accuracy: 51.61%Loss: 1.2377  Validation Accuracy: 51.36%Loss: 1.2372  Validation Accuracy: 52.72%Loss: 1.2346  Validation Accuracy: 51.49%Loss: 1.2338  Validation Accuracy: 51.73%Loss: 1.2320  Validation Accuracy: 51.61%Loss: 1.2304  Validation Accuracy: 51.73%Loss: 1.2286  Validation Accuracy: 51.49%Loss: 1.2267  Validation Accuracy: 51.61%Loss: 1.2249  Validation Accuracy: 52.72%Loss: 1.2230  Validation Accuracy: 52.48%Loss: 1.2211  Validation Accuracy: 51.98%Loss: 1.2196  Validation Accuracy: 51.86%Loss: 1.2197  Validation Accuracy: 51.98%Loss: 1.2173  Validation Accuracy: 52.35%Loss: 1.2161  Validation Accuracy: 52.48%Loss: 1.2136  Validation Accuracy: 53.47%Loss: 1.2125  Validation Accuracy: 51.73%Loss: 1.2128  Validation Accuracy: 51.86%Loss: 1.2116  Validation Accuracy: 52.23%Loss: 1.2078  Validation Accuracy: 52.60%Loss: 1.2055  Validation Accuracy: 53.59%Loss: 1.2051  Validation Accuracy: 53.22%Loss: 1.2039  Validation Accuracy: 53.96%Loss: 1.2022  Validation Accuracy: 53.22%Loss: 1.1995  Validation Accuracy: 52.72%Loss: 1.1991  Validation Accuracy: 53.59%Loss: 1.1970  Validation Accuracy: 53.47%Loss: 1.1948  Validation Accuracy: 53.47%Loss: 1.1954  Validation Accuracy: 53.84%Loss: 1.1927  Validation Accuracy: 54.21%Loss: 1.1911  Validation Accuracy: 52.72%Loss: 1.1898  Validation Accuracy: 53.59%Loss: 1.1878  Validation Accuracy: 53.47%Loss: 1.1884  Validation Accuracy: 53.09%Loss: 1.1861  Validation Accuracy: 52.85%Loss: 1.1840  Validation Accuracy: 54.21%Loss: 1.1833  Validation Accuracy: 53.47%Loss: 1.1839  Validation Accuracy: 53.22%Loss: 1.1920  Validation Accuracy: 53.59%Loss: 1.1897  Validation Accuracy: 53.47%Loss: 1.1859  Validation Accuracy: 53.34%Loss: 1.1781  Validation Accuracy: 54.58%Loss: 1.1750  Validation Accuracy: 54.46%Loss: 1.1814  Validation Accuracy: 52.85%Loss: 1.1800  Validation Accuracy: 53.09%Loss: 1.1727  Validation Accuracy: 54.08%Loss: 1.1712  Validation Accuracy: 54.46%Loss: 1.1735  Validation Accuracy: 53.59%Loss: 1.1680  Validation Accuracy: 53.84%Loss: 1.1658  Validation Accuracy: 54.83%Loss: 1.1667  Validation Accuracy: 54.08%Loss: 1.1649  Validation Accuracy: 53.22%Loss: 1.1605  Validation Accuracy: 54.33%Loss: 1.1591  Validation Accuracy: 53.84%Loss: 1.1586  Validation Accuracy: 54.08%Loss: 1.1567  Validation Accuracy: 54.70%\r"
     ]
    },
    {
     "name": "stdout",
     "output_type": "stream",
     "text": [
      "Epoch 400, CIFAR-10 Batch 1:  Loss: 1.1565  Validation Accuracy: 55.20%\r"
     ]
    }
   ],
   "source": [
    "\"\"\"\n",
    "DON'T MODIFY ANYTHING IN THIS CELL\n",
    "\"\"\"\n",
    "print('Checking the Training on a Single Batch...')\n",
    "with tf.Session() as sess:\n",
    "    # Initializing the variables\n",
    "    sess.run(tf.global_variables_initializer())\n",
    "    \n",
    "    # Training cycle\n",
    "    for epoch in range(epochs):\n",
    "        batch_i = 1\n",
    "        for batch_features, batch_labels in helper.load_preprocess_training_batch(batch_i, batch_size):\n",
    "            train_neural_network(sess, optimizer, keep_probability, batch_features, batch_labels)\n",
    "        print('Epoch {:>2}, CIFAR-10 Batch {}:  '.format(epoch + 1, batch_i), end='')\n",
    "        print_stats(sess, batch_features, batch_labels, cost, accuracy)"
   ]
  },
  {
   "cell_type": "markdown",
   "metadata": {},
   "source": [
    "### Fully Train the Model\n",
    "Now that you got a good accuracy with a single CIFAR-10 batch, try it with all five batches."
   ]
  },
  {
   "cell_type": "code",
   "execution_count": 58,
   "metadata": {},
   "outputs": [
    {
     "name": "stdout",
     "output_type": "stream",
     "text": [
      "Training...\n"
     ]
    },
    {
     "name": "stdout",
     "output_type": "stream",
     "text": [
      "Epoch 40, CIFAR-10 Batch 4:  Loss: 2.3021  Validation Accuracy: 11.51%Loss: 2.3026  Validation Accuracy: 9.78%Loss: 2.3027  Validation Accuracy: 10.40%Loss: 2.3026  Validation Accuracy: 10.02%Loss: 2.3024  Validation Accuracy: 10.27%Loss: 2.3020  Validation Accuracy: 13.86%Loss: 2.3021  Validation Accuracy: 15.47%Loss: 2.3024  Validation Accuracy: 9.28%Loss: 2.3015  Validation Accuracy: 16.96%Loss: 2.3012  Validation Accuracy: 17.45%Loss: 2.3006  Validation Accuracy: 14.98%Loss: 2.3003  Validation Accuracy: 15.10%Loss: 2.3002  Validation Accuracy: 17.57%Loss: 2.2987  Validation Accuracy: 17.33%Loss: 2.2974  Validation Accuracy: 20.92%Loss: 2.2963  Validation Accuracy: 18.81%Loss: 2.2946  Validation Accuracy: 18.32%Loss: 2.2940  Validation Accuracy: 17.33%Loss: 2.2899  Validation Accuracy: 19.68%Loss: 2.2875  Validation Accuracy: 19.55%Loss: 2.2844  Validation Accuracy: 18.94%Loss: 2.2801  Validation Accuracy: 19.31%Loss: 2.2767  Validation Accuracy: 18.19%Loss: 2.2685  Validation Accuracy: 20.42%Loss: 2.2631  Validation Accuracy: 19.68%Loss: 2.2583  Validation Accuracy: 20.30%Loss: 2.2474  Validation Accuracy: 19.93%Loss: 2.2424  Validation Accuracy: 18.32%Loss: 2.2290  Validation Accuracy: 20.30%Loss: 2.2212  Validation Accuracy: 19.80%Loss: 2.2142  Validation Accuracy: 20.17%Loss: 2.1989  Validation Accuracy: 20.17%Loss: 2.1903  Validation Accuracy: 18.32%Loss: 2.1729  Validation Accuracy: 20.67%Loss: 2.1683  Validation Accuracy: 20.54%Loss: 2.1605  Validation Accuracy: 19.80%Loss: 2.1422  Validation Accuracy: 20.30%Loss: 2.1308  Validation Accuracy: 18.44%Loss: 2.1098  Validation Accuracy: 20.67%Loss: 2.1134  Validation Accuracy: 20.42%Loss: 2.1028  Validation Accuracy: 20.05%Loss: 2.0866  Validation Accuracy: 20.92%Loss: 2.0667  Validation Accuracy: 18.81%Loss: 2.0451  Validation Accuracy: 20.42%Loss: 2.0566  Validation Accuracy: 20.05%Loss: 2.0491  Validation Accuracy: 19.93%Loss: 2.0361  Validation Accuracy: 20.79%Loss: 2.0099  Validation Accuracy: 18.94%Loss: 1.9943  Validation Accuracy: 20.92%Loss: 2.0142  Validation Accuracy: 20.79%Loss: 2.0056  Validation Accuracy: 19.55%Loss: 1.9991  Validation Accuracy: 21.29%Loss: 1.9683  Validation Accuracy: 18.69%Loss: 1.9605  Validation Accuracy: 21.41%Loss: 1.9812  Validation Accuracy: 20.42%Loss: 1.9775  Validation Accuracy: 20.42%Loss: 1.9725  Validation Accuracy: 21.41%Loss: 1.9364  Validation Accuracy: 19.43%Loss: 1.9387  Validation Accuracy: 21.91%Loss: 1.9622  Validation Accuracy: 19.93%Loss: 1.9625  Validation Accuracy: 20.92%Loss: 1.9543  Validation Accuracy: 21.78%Loss: 1.9168  Validation Accuracy: 19.55%Loss: 1.9247  Validation Accuracy: 21.66%Loss: 1.9499  Validation Accuracy: 20.54%Loss: 1.9503  Validation Accuracy: 21.53%Loss: 1.9433  Validation Accuracy: 22.03%Loss: 1.9027  Validation Accuracy: 21.16%Loss: 1.9194  Validation Accuracy: 22.15%Loss: 1.9429  Validation Accuracy: 21.29%Loss: 1.9351  Validation Accuracy: 22.15%Loss: 1.9338  Validation Accuracy: 22.90%Loss: 1.8907  Validation Accuracy: 21.29%Loss: 1.9131  Validation Accuracy: 22.40%Loss: 1.9394  Validation Accuracy: 21.91%Loss: 1.9280  Validation Accuracy: 22.03%Loss: 1.9294  Validation Accuracy: 21.41%Loss: 1.8788  Validation Accuracy: 22.15%Loss: 1.9037  Validation Accuracy: 23.64%Loss: 1.9276  Validation Accuracy: 22.03%Loss: 1.9193  Validation Accuracy: 22.90%Loss: 1.9247  Validation Accuracy: 21.29%Loss: 1.8692  Validation Accuracy: 22.28%Loss: 1.8963  Validation Accuracy: 23.27%Loss: 1.9142  Validation Accuracy: 22.65%Loss: 1.9105  Validation Accuracy: 23.02%Loss: 1.9167  Validation Accuracy: 21.41%Loss: 1.8628  Validation Accuracy: 22.03%Loss: 1.8919  Validation Accuracy: 24.75%Loss: 1.9068  Validation Accuracy: 22.90%Loss: 1.9025  Validation Accuracy: 23.27%Loss: 1.9085  Validation Accuracy: 22.15%Loss: 1.8570  Validation Accuracy: 22.28%Loss: 1.8894  Validation Accuracy: 24.75%Loss: 1.9006  Validation Accuracy: 23.14%Loss: 1.8950  Validation Accuracy: 23.39%Loss: 1.9017  Validation Accuracy: 21.66%Loss: 1.8502  Validation Accuracy: 22.52%Loss: 1.8854  Validation Accuracy: 24.63%Loss: 1.8923  Validation Accuracy: 22.77%Loss: 1.8881  Validation Accuracy: 22.90%Loss: 1.8954  Validation Accuracy: 21.41%Loss: 1.8450  Validation Accuracy: 22.40%Loss: 1.8820  Validation Accuracy: 23.76%Loss: 1.8874  Validation Accuracy: 21.16%Loss: 1.8822  Validation Accuracy: 22.90%Loss: 1.8901  Validation Accuracy: 22.40%Loss: 1.8399  Validation Accuracy: 22.40%Loss: 1.8760  Validation Accuracy: 23.14%Loss: 1.8794  Validation Accuracy: 20.54%Loss: 1.8762  Validation Accuracy: 24.38%Loss: 1.8840  Validation Accuracy: 22.40%Loss: 1.8319  Validation Accuracy: 27.23%Loss: 1.8711  Validation Accuracy: 22.90%Loss: 1.8714  Validation Accuracy: 21.04%Loss: 1.8700  Validation Accuracy: 24.13%Loss: 1.8785  Validation Accuracy: 22.65%Loss: 1.8266  Validation Accuracy: 27.23%Loss: 1.8665  Validation Accuracy: 24.63%Loss: 1.8640  Validation Accuracy: 21.53%Loss: 1.8629  Validation Accuracy: 24.26%Loss: 1.8717  Validation Accuracy: 23.39%Loss: 1.8221  Validation Accuracy: 27.60%Loss: 1.8601  Validation Accuracy: 24.26%Loss: 1.8591  Validation Accuracy: 21.29%Loss: 1.8563  Validation Accuracy: 24.38%Loss: 1.8665  Validation Accuracy: 23.39%Loss: 1.8178  Validation Accuracy: 28.34%Loss: 1.8551  Validation Accuracy: 25.00%Loss: 1.8536  Validation Accuracy: 21.29%Loss: 1.8481  Validation Accuracy: 24.75%Loss: 1.8606  Validation Accuracy: 23.27%Loss: 1.8115  Validation Accuracy: 27.10%Loss: 1.8493  Validation Accuracy: 24.75%Loss: 1.8465  Validation Accuracy: 22.65%Loss: 1.8401  Validation Accuracy: 25.62%Loss: 1.8560  Validation Accuracy: 23.89%Loss: 1.8047  Validation Accuracy: 28.09%Loss: 1.8435  Validation Accuracy: 25.50%Loss: 1.8398  Validation Accuracy: 23.39%Loss: 1.8321  Validation Accuracy: 25.87%Loss: 1.8486  Validation Accuracy: 24.01%Loss: 1.8002  Validation Accuracy: 28.84%Loss: 1.8379  Validation Accuracy: 26.11%Loss: 1.8332  Validation Accuracy: 23.14%Loss: 1.8239  Validation Accuracy: 26.86%Loss: 1.8419  Validation Accuracy: 24.63%Loss: 1.7940  Validation Accuracy: 28.96%Loss: 1.8287  Validation Accuracy: 25.50%Loss: 1.8246  Validation Accuracy: 23.39%Loss: 1.8173  Validation Accuracy: 27.10%Loss: 1.8346  Validation Accuracy: 25.87%Loss: 1.7883  Validation Accuracy: 29.33%Loss: 1.8188  Validation Accuracy: 27.10%Loss: 1.8173  Validation Accuracy: 24.26%Loss: 1.8097  Validation Accuracy: 27.10%Loss: 1.8291  Validation Accuracy: 25.62%Loss: 1.7821  Validation Accuracy: 29.83%Loss: 1.8088  Validation Accuracy: 27.60%Loss: 1.8103  Validation Accuracy: 24.88%Loss: 1.8019  Validation Accuracy: 27.72%Loss: 1.8212  Validation Accuracy: 25.87%Loss: 1.7767  Validation Accuracy: 30.45%Loss: 1.8009  Validation Accuracy: 28.59%Loss: 1.8023  Validation Accuracy: 25.25%Loss: 1.7932  Validation Accuracy: 27.72%Loss: 1.8138  Validation Accuracy: 26.98%Loss: 1.7687  Validation Accuracy: 30.07%Loss: 1.7896  Validation Accuracy: 28.84%Loss: 1.7934  Validation Accuracy: 25.00%Loss: 1.7838  Validation Accuracy: 27.72%Loss: 1.8062  Validation Accuracy: 27.48%Loss: 1.7603  Validation Accuracy: 30.32%Loss: 1.7782  Validation Accuracy: 28.47%Loss: 1.7841  Validation Accuracy: 25.74%Loss: 1.7727  Validation Accuracy: 27.72%Loss: 1.7975  Validation Accuracy: 28.47%Loss: 1.7515  Validation Accuracy: 29.95%Loss: 1.7656  Validation Accuracy: 29.46%Loss: 1.7748  Validation Accuracy: 26.73%Loss: 1.7620  Validation Accuracy: 28.34%Loss: 1.7873  Validation Accuracy: 28.09%Loss: 1.7432  Validation Accuracy: 31.06%Loss: 1.7508  Validation Accuracy: 29.95%Loss: 1.7643  Validation Accuracy: 26.11%Loss: 1.7525  Validation Accuracy: 28.59%Loss: 1.7851  Validation Accuracy: 27.97%Loss: 1.7315  Validation Accuracy: 30.94%Loss: 1.7394  Validation Accuracy: 30.20%Loss: 1.7518  Validation Accuracy: 28.34%Loss: 1.7406  Validation Accuracy: 30.32%Loss: 1.7674  Validation Accuracy: 29.08%Loss: 1.7230  Validation Accuracy: 30.57%Loss: 1.7230  Validation Accuracy: 31.31%Loss: 1.7408  Validation Accuracy: 28.09%Loss: 1.7285  Validation Accuracy: 31.06%Loss: 1.7586  Validation Accuracy: 30.45%Loss: 1.7124  Validation Accuracy: 30.45%Loss: 1.7104  Validation Accuracy: 31.93%\r",
      "Epoch 40, CIFAR-10 Batch 5:  "
     ]
    },
    {
     "name": "stdout",
     "output_type": "stream",
     "text": [
      "Epoch 80, CIFAR-10 Batch 4:  racy: 28.22%Loss: 1.7150  Validation Accuracy: 31.56%Loss: 1.7443  Validation Accuracy: 30.32%Loss: 1.7036  Validation Accuracy: 30.82%Loss: 1.6984  Validation Accuracy: 33.54%Loss: 1.7135  Validation Accuracy: 28.84%Loss: 1.7004  Validation Accuracy: 31.81%Loss: 1.7327  Validation Accuracy: 30.20%Loss: 1.6927  Validation Accuracy: 31.93%Loss: 1.6816  Validation Accuracy: 33.79%Loss: 1.7011  Validation Accuracy: 29.08%Loss: 1.6881  Validation Accuracy: 33.04%Loss: 1.7217  Validation Accuracy: 31.31%Loss: 1.6852  Validation Accuracy: 31.81%Loss: 1.6712  Validation Accuracy: 33.91%Loss: 1.6907  Validation Accuracy: 30.45%Loss: 1.6746  Validation Accuracy: 33.54%Loss: 1.7098  Validation Accuracy: 31.56%Loss: 1.6735  Validation Accuracy: 33.17%Loss: 1.6571  Validation Accuracy: 33.42%Loss: 1.6788  Validation Accuracy: 30.94%Loss: 1.6626  Validation Accuracy: 34.90%Loss: 1.7001  Validation Accuracy: 32.05%Loss: 1.6632  Validation Accuracy: 33.17%Loss: 1.6445  Validation Accuracy: 34.78%Loss: 1.6652  Validation Accuracy: 30.82%Loss: 1.6511  Validation Accuracy: 34.28%Loss: 1.6886  Validation Accuracy: 32.18%Loss: 1.6546  Validation Accuracy: 33.54%Loss: 1.6360  Validation Accuracy: 35.15%Loss: 1.6537  Validation Accuracy: 30.69%Loss: 1.6416  Validation Accuracy: 34.65%Loss: 1.6782  Validation Accuracy: 32.05%Loss: 1.6385  Validation Accuracy: 33.66%Loss: 1.6214  Validation Accuracy: 34.78%Loss: 1.6420  Validation Accuracy: 30.82%Loss: 1.6278  Validation Accuracy: 35.52%Loss: 1.6674  Validation Accuracy: 32.55%Loss: 1.6314  Validation Accuracy: 33.42%Loss: 1.6111  Validation Accuracy: 35.40%Loss: 1.6306  Validation Accuracy: 30.94%Loss: 1.6167  Validation Accuracy: 36.51%Loss: 1.6594  Validation Accuracy: 33.04%Loss: 1.6199  Validation Accuracy: 33.42%Loss: 1.6015  Validation Accuracy: 35.15%Loss: 1.6202  Validation Accuracy: 30.82%Loss: 1.6059  Validation Accuracy: 35.77%Loss: 1.6516  Validation Accuracy: 33.29%Loss: 1.6084  Validation Accuracy: 34.16%Loss: 1.5915  Validation Accuracy: 35.77%Loss: 1.6096  Validation Accuracy: 31.81%Loss: 1.5953  Validation Accuracy: 37.13%Loss: 1.6431  Validation Accuracy: 33.79%Loss: 1.5993  Validation Accuracy: 34.90%Loss: 1.5826  Validation Accuracy: 35.40%Loss: 1.6001  Validation Accuracy: 33.17%Loss: 1.5869  Validation Accuracy: 36.26%Loss: 1.6344  Validation Accuracy: 33.91%Loss: 1.5872  Validation Accuracy: 35.40%Loss: 1.5741  Validation Accuracy: 35.02%Loss: 1.5906  Validation Accuracy: 33.42%Loss: 1.5773  Validation Accuracy: 36.26%Loss: 1.6278  Validation Accuracy: 34.41%Loss: 1.5791  Validation Accuracy: 36.76%Loss: 1.5659  Validation Accuracy: 35.02%Loss: 1.5803  Validation Accuracy: 34.90%Loss: 1.5715  Validation Accuracy: 37.87%Loss: 1.6196  Validation Accuracy: 34.16%Loss: 1.5687  Validation Accuracy: 36.14%Loss: 1.5579  Validation Accuracy: 36.26%Loss: 1.5705  Validation Accuracy: 34.78%Loss: 1.5616  Validation Accuracy: 37.50%Loss: 1.6139  Validation Accuracy: 35.15%Loss: 1.5578  Validation Accuracy: 36.88%Loss: 1.5511  Validation Accuracy: 35.77%Loss: 1.5634  Validation Accuracy: 33.91%Loss: 1.5553  Validation Accuracy: 37.87%Loss: 1.6059  Validation Accuracy: 34.65%Loss: 1.5527  Validation Accuracy: 37.13%Loss: 1.5435  Validation Accuracy: 36.01%Loss: 1.5546  Validation Accuracy: 34.90%Loss: 1.5481  Validation Accuracy: 37.87%Loss: 1.5997  Validation Accuracy: 35.52%Loss: 1.5427  Validation Accuracy: 36.88%Loss: 1.5371  Validation Accuracy: 35.77%Loss: 1.5474  Validation Accuracy: 34.53%Loss: 1.5416  Validation Accuracy: 37.75%Loss: 1.5930  Validation Accuracy: 35.27%Loss: 1.5357  Validation Accuracy: 37.87%Loss: 1.5326  Validation Accuracy: 36.26%Loss: 1.5389  Validation Accuracy: 35.64%Loss: 1.5366  Validation Accuracy: 38.49%Loss: 1.5880  Validation Accuracy: 35.77%Loss: 1.5250  Validation Accuracy: 38.49%Loss: 1.5246  Validation Accuracy: 36.14%Loss: 1.5379  Validation Accuracy: 36.14%Loss: 1.5304  Validation Accuracy: 38.99%Loss: 1.5822  Validation Accuracy: 36.51%Loss: 1.5204  Validation Accuracy: 38.37%Loss: 1.5194  Validation Accuracy: 36.39%Loss: 1.5299  Validation Accuracy: 37.00%Loss: 1.5239  Validation Accuracy: 39.48%Loss: 1.5740  Validation Accuracy: 36.51%Loss: 1.5126  Validation Accuracy: 38.00%Loss: 1.5138  Validation Accuracy: 36.51%Loss: 1.5209  Validation Accuracy: 37.50%Loss: 1.5190  Validation Accuracy: 40.22%Loss: 1.5687  Validation Accuracy: 36.88%Loss: 1.5045  Validation Accuracy: 38.49%Loss: 1.5078  Validation Accuracy: 36.26%Loss: 1.5157  Validation Accuracy: 37.87%Loss: 1.5123  Validation Accuracy: 39.60%Loss: 1.5619  Validation Accuracy: 37.13%Loss: 1.4970  Validation Accuracy: 38.37%Loss: 1.5009  Validation Accuracy: 36.63%Loss: 1.5132  Validation Accuracy: 38.86%Loss: 1.5088  Validation Accuracy: 40.59%Loss: 1.5570  Validation Accuracy: 37.62%Loss: 1.4915  Validation Accuracy: 38.49%Loss: 1.5016  Validation Accuracy: 35.77%Loss: 1.5126  Validation Accuracy: 38.86%Loss: 1.5046  Validation Accuracy: 40.59%Loss: 1.5516  Validation Accuracy: 37.50%Loss: 1.4841  Validation Accuracy: 38.86%Loss: 1.4924  Validation Accuracy: 36.01%Loss: 1.5110  Validation Accuracy: 39.73%Loss: 1.5046  Validation Accuracy: 41.09%Loss: 1.5486  Validation Accuracy: 39.11%Loss: 1.4745  Validation Accuracy: 39.36%Loss: 1.4855  Validation Accuracy: 36.26%Loss: 1.4992  Validation Accuracy: 39.85%Loss: 1.4990  Validation Accuracy: 40.59%Loss: 1.5448  Validation Accuracy: 38.24%Loss: 1.4704  Validation Accuracy: 39.73%Loss: 1.4778  Validation Accuracy: 36.63%Loss: 1.4905  Validation Accuracy: 40.72%Loss: 1.4935  Validation Accuracy: 42.08%Loss: 1.5418  Validation Accuracy: 40.10%Loss: 1.4648  Validation Accuracy: 40.97%Loss: 1.4704  Validation Accuracy: 37.00%Loss: 1.4845  Validation Accuracy: 41.58%Loss: 1.4918  Validation Accuracy: 41.58%Loss: 1.5378  Validation Accuracy: 39.23%Loss: 1.4584  Validation Accuracy: 41.34%Loss: 1.4661  Validation Accuracy: 37.50%Loss: 1.4802  Validation Accuracy: 41.71%Loss: 1.4827  Validation Accuracy: 41.71%Loss: 1.5293  Validation Accuracy: 39.48%Loss: 1.4544  Validation Accuracy: 41.46%Loss: 1.4616  Validation Accuracy: 38.00%Loss: 1.4728  Validation Accuracy: 41.83%Loss: 1.4781  Validation Accuracy: 42.45%Loss: 1.5253  Validation Accuracy: 39.60%Loss: 1.4508  Validation Accuracy: 42.82%Loss: 1.4571  Validation Accuracy: 38.74%Loss: 1.4655  Validation Accuracy: 42.57%Loss: 1.4735  Validation Accuracy: 42.45%Loss: 1.5203  Validation Accuracy: 40.84%Loss: 1.4465  Validation Accuracy: 42.70%Loss: 1.4539  Validation Accuracy: 38.99%Loss: 1.4601  Validation Accuracy: 43.44%Loss: 1.4648  Validation Accuracy: 41.83%Loss: 1.5076  Validation Accuracy: 40.47%Loss: 1.4358  Validation Accuracy: 44.18%Loss: 1.4451  Validation Accuracy: 39.48%Loss: 1.4542  Validation Accuracy: 43.81%Loss: 1.4604  Validation Accuracy: 43.32%Loss: 1.5006  Validation Accuracy: 41.09%Loss: 1.4307  Validation Accuracy: 43.81%Loss: 1.4410  Validation Accuracy: 40.35%Loss: 1.4480  Validation Accuracy: 44.31%Loss: 1.4552  Validation Accuracy: 42.95%Loss: 1.4959  Validation Accuracy: 40.47%Loss: 1.4236  Validation Accuracy: 44.18%Loss: 1.4358  Validation Accuracy: 39.85%Loss: 1.4425  Validation Accuracy: 44.31%Loss: 1.4499  Validation Accuracy: 43.69%Loss: 1.4898  Validation Accuracy: 41.46%Loss: 1.4170  Validation Accuracy: 45.05%Loss: 1.4301  Validation Accuracy: 39.85%Loss: 1.4368  Validation Accuracy: 45.54%Loss: 1.4434  Validation Accuracy: 43.32%Loss: 1.4814  Validation Accuracy: 42.45%Loss: 1.4115  Validation Accuracy: 45.92%Loss: 1.4249  Validation Accuracy: 40.72%Loss: 1.4322  Validation Accuracy: 45.92%Loss: 1.4386  Validation Accuracy: 42.95%Loss: 1.4757  Validation Accuracy: 42.95%Loss: 1.4055  Validation Accuracy: 45.67%Loss: 1.4202  Validation Accuracy: 41.83%Loss: 1.4261  Validation Accuracy: 46.04%Loss: 1.4328  Validation Accuracy: 43.19%Loss: 1.4690  Validation Accuracy: 43.32%Loss: 1.3988  Validation Accuracy: 46.04%Loss: 1.4142  Validation Accuracy: 41.21%Loss: 1.4196  Validation Accuracy: 45.92%Loss: 1.4264  Validation Accuracy: 44.18%Loss: 1.4627  Validation Accuracy: 43.44%Loss: 1.3912  Validation Accuracy: 46.04%Loss: 1.4084  Validation Accuracy: 41.34%\r"
     ]
    },
    {
     "name": "stdout",
     "output_type": "stream",
     "text": [
      "Epoch 120, CIFAR-10 Batch 4:  oss: 1.4148  Validation Accuracy: 46.91%Loss: 1.4243  Validation Accuracy: 44.06%Loss: 1.4573  Validation Accuracy: 43.44%Loss: 1.3855  Validation Accuracy: 45.92%Loss: 1.4028  Validation Accuracy: 41.34%Loss: 1.4085  Validation Accuracy: 46.53%Loss: 1.4184  Validation Accuracy: 44.80%Loss: 1.4508  Validation Accuracy: 43.56%Loss: 1.3785  Validation Accuracy: 46.41%Loss: 1.3962  Validation Accuracy: 41.46%Loss: 1.4006  Validation Accuracy: 47.40%Loss: 1.4121  Validation Accuracy: 45.67%Loss: 1.4440  Validation Accuracy: 43.69%Loss: 1.3726  Validation Accuracy: 46.91%Loss: 1.3921  Validation Accuracy: 42.95%Loss: 1.3962  Validation Accuracy: 48.14%Loss: 1.4049  Validation Accuracy: 45.79%Loss: 1.4396  Validation Accuracy: 44.18%Loss: 1.3666  Validation Accuracy: 47.77%Loss: 1.3882  Validation Accuracy: 42.70%Loss: 1.3895  Validation Accuracy: 48.27%Loss: 1.4011  Validation Accuracy: 46.16%Loss: 1.4356  Validation Accuracy: 44.55%Loss: 1.3608  Validation Accuracy: 47.40%Loss: 1.3815  Validation Accuracy: 43.19%Loss: 1.3849  Validation Accuracy: 48.51%Loss: 1.3949  Validation Accuracy: 45.42%Loss: 1.4290  Validation Accuracy: 43.81%Loss: 1.3550  Validation Accuracy: 47.77%Loss: 1.3764  Validation Accuracy: 43.94%Loss: 1.3796  Validation Accuracy: 48.51%Loss: 1.3895  Validation Accuracy: 45.79%Loss: 1.4225  Validation Accuracy: 44.68%Loss: 1.3481  Validation Accuracy: 47.90%Loss: 1.3715  Validation Accuracy: 44.68%Loss: 1.3728  Validation Accuracy: 48.27%Loss: 1.3825  Validation Accuracy: 45.92%Loss: 1.4157  Validation Accuracy: 44.68%Loss: 1.3419  Validation Accuracy: 48.27%Loss: 1.3669  Validation Accuracy: 44.43%Loss: 1.3644  Validation Accuracy: 49.26%Loss: 1.3732  Validation Accuracy: 46.29%Loss: 1.4083  Validation Accuracy: 44.80%Loss: 1.3347  Validation Accuracy: 48.64%Loss: 1.3596  Validation Accuracy: 45.05%Loss: 1.3593  Validation Accuracy: 50.12%Loss: 1.3713  Validation Accuracy: 46.53%Loss: 1.4060  Validation Accuracy: 44.55%Loss: 1.3283  Validation Accuracy: 49.75%Loss: 1.3551  Validation Accuracy: 45.54%Loss: 1.3536  Validation Accuracy: 49.13%Loss: 1.3653  Validation Accuracy: 46.78%Loss: 1.3952  Validation Accuracy: 45.05%Loss: 1.3190  Validation Accuracy: 49.13%Loss: 1.3485  Validation Accuracy: 45.79%Loss: 1.3460  Validation Accuracy: 50.12%Loss: 1.3565  Validation Accuracy: 47.52%Loss: 1.3903  Validation Accuracy: 45.67%Loss: 1.3114  Validation Accuracy: 49.75%Loss: 1.3406  Validation Accuracy: 46.53%Loss: 1.3393  Validation Accuracy: 49.26%Loss: 1.3500  Validation Accuracy: 48.02%Loss: 1.3828  Validation Accuracy: 45.17%Loss: 1.3057  Validation Accuracy: 49.75%Loss: 1.3352  Validation Accuracy: 47.28%Loss: 1.3315  Validation Accuracy: 49.26%Loss: 1.3447  Validation Accuracy: 47.77%Loss: 1.3744  Validation Accuracy: 46.41%Loss: 1.2974  Validation Accuracy: 50.00%Loss: 1.3301  Validation Accuracy: 48.02%Loss: 1.3272  Validation Accuracy: 49.38%Loss: 1.3393  Validation Accuracy: 48.02%Loss: 1.3706  Validation Accuracy: 46.16%Loss: 1.2907  Validation Accuracy: 50.37%Loss: 1.3231  Validation Accuracy: 47.90%Loss: 1.3205  Validation Accuracy: 49.50%Loss: 1.3327  Validation Accuracy: 48.14%Loss: 1.3650  Validation Accuracy: 46.66%Loss: 1.2819  Validation Accuracy: 50.74%Loss: 1.3150  Validation Accuracy: 48.39%Loss: 1.3131  Validation Accuracy: 49.88%Loss: 1.3246  Validation Accuracy: 48.39%Loss: 1.3581  Validation Accuracy: 47.65%Loss: 1.2762  Validation Accuracy: 50.37%Loss: 1.3106  Validation Accuracy: 48.76%Loss: 1.3063  Validation Accuracy: 49.63%Loss: 1.3177  Validation Accuracy: 48.02%Loss: 1.3509  Validation Accuracy: 47.65%Loss: 1.2668  Validation Accuracy: 51.49%Loss: 1.3032  Validation Accuracy: 49.01%Loss: 1.2999  Validation Accuracy: 49.75%Loss: 1.3076  Validation Accuracy: 48.39%Loss: 1.3430  Validation Accuracy: 47.28%Loss: 1.2608  Validation Accuracy: 51.49%Loss: 1.2962  Validation Accuracy: 50.00%Loss: 1.2905  Validation Accuracy: 50.00%Loss: 1.2996  Validation Accuracy: 49.38%Loss: 1.3361  Validation Accuracy: 47.52%Loss: 1.2540  Validation Accuracy: 51.98%Loss: 1.2897  Validation Accuracy: 49.50%Loss: 1.2837  Validation Accuracy: 50.37%Loss: 1.2950  Validation Accuracy: 49.88%Loss: 1.3285  Validation Accuracy: 47.40%Loss: 1.2467  Validation Accuracy: 52.60%Loss: 1.2821  Validation Accuracy: 49.75%Loss: 1.2767  Validation Accuracy: 50.12%Loss: 1.2879  Validation Accuracy: 50.25%Loss: 1.3212  Validation Accuracy: 48.39%Loss: 1.2403  Validation Accuracy: 53.34%Loss: 1.2736  Validation Accuracy: 50.25%Loss: 1.2700  Validation Accuracy: 50.62%Loss: 1.2811  Validation Accuracy: 50.12%Loss: 1.3162  Validation Accuracy: 48.02%Loss: 1.2343  Validation Accuracy: 52.97%Loss: 1.2674  Validation Accuracy: 50.50%Loss: 1.2620  Validation Accuracy: 50.74%Loss: 1.2743  Validation Accuracy: 50.00%Loss: 1.3075  Validation Accuracy: 47.65%Loss: 1.2260  Validation Accuracy: 53.59%Loss: 1.2588  Validation Accuracy: 50.62%Loss: 1.2549  Validation Accuracy: 51.24%Loss: 1.2658  Validation Accuracy: 50.25%Loss: 1.3025  Validation Accuracy: 48.02%Loss: 1.2203  Validation Accuracy: 53.59%Loss: 1.2557  Validation Accuracy: 50.50%Loss: 1.2485  Validation Accuracy: 50.99%Loss: 1.2618  Validation Accuracy: 50.25%Loss: 1.2953  Validation Accuracy: 48.14%Loss: 1.2138  Validation Accuracy: 53.34%Loss: 1.2494  Validation Accuracy: 50.37%Loss: 1.2416  Validation Accuracy: 50.87%Loss: 1.2556  Validation Accuracy: 50.12%Loss: 1.2867  Validation Accuracy: 48.76%Loss: 1.2093  Validation Accuracy: 53.96%Loss: 1.2418  Validation Accuracy: 51.61%Loss: 1.2363  Validation Accuracy: 51.36%Loss: 1.2482  Validation Accuracy: 50.74%Loss: 1.2814  Validation Accuracy: 48.76%Loss: 1.2024  Validation Accuracy: 54.08%Loss: 1.2358  Validation Accuracy: 50.99%Loss: 1.2290  Validation Accuracy: 50.87%Loss: 1.2439  Validation Accuracy: 50.37%Loss: 1.2755  Validation Accuracy: 49.26%Loss: 1.1995  Validation Accuracy: 53.71%Loss: 1.2281  Validation Accuracy: 52.35%Loss: 1.2226  Validation Accuracy: 51.61%Loss: 1.2387  Validation Accuracy: 51.36%Loss: 1.2671  Validation Accuracy: 49.38%Loss: 1.1916  Validation Accuracy: 54.21%Loss: 1.2241  Validation Accuracy: 51.61%Loss: 1.2165  Validation Accuracy: 52.35%Loss: 1.2317  Validation Accuracy: 50.99%Loss: 1.2597  Validation Accuracy: 49.50%Loss: 1.1859  Validation Accuracy: 53.71%Loss: 1.2153  Validation Accuracy: 51.86%Loss: 1.2097  Validation Accuracy: 52.97%Loss: 1.2258  Validation Accuracy: 51.86%Loss: 1.2538  Validation Accuracy: 49.63%Loss: 1.1819  Validation Accuracy: 54.08%Loss: 1.2117  Validation Accuracy: 51.98%Loss: 1.2044  Validation Accuracy: 52.23%Loss: 1.2152  Validation Accuracy: 52.10%Loss: 1.2459  Validation Accuracy: 49.88%Loss: 1.1756  Validation Accuracy: 54.83%Loss: 1.2040  Validation Accuracy: 52.97%Loss: 1.1984  Validation Accuracy: 52.72%Loss: 1.2128  Validation Accuracy: 52.10%Loss: 1.2398  Validation Accuracy: 50.62%Loss: 1.1713  Validation Accuracy: 54.46%Loss: 1.1998  Validation Accuracy: 53.47%Loss: 1.1935  Validation Accuracy: 52.72%Loss: 1.2063  Validation Accuracy: 51.98%Loss: 1.2331  Validation Accuracy: 51.24%Loss: 1.1651  Validation Accuracy: 54.95%Loss: 1.1931  Validation Accuracy: 53.22%Loss: 1.1869  Validation Accuracy: 53.34%Loss: 1.2011  Validation Accuracy: 52.10%Loss: 1.2256  Validation Accuracy: 52.10%Loss: 1.1649  Validation Accuracy: 55.69%Loss: 1.1882  Validation Accuracy: 53.47%Loss: 1.1806  Validation Accuracy: 53.71%Loss: 1.1960  Validation Accuracy: 52.85%Loss: 1.2181  Validation Accuracy: 51.86%Loss: 1.1585  Validation Accuracy: 55.69%Loss: 1.1822  Validation Accuracy: 54.08%Loss: 1.1756  Validation Accuracy: 54.21%Loss: 1.1886  Validation Accuracy: 53.47%Loss: 1.2110  Validation Accuracy: 52.35%Loss: 1.1533  Validation Accuracy: 56.06%Loss: 1.1778  Validation Accuracy: 53.84%Loss: 1.1685  Validation Accuracy: 54.95%Loss: 1.1832  Validation Accuracy: 52.35%Loss: 1.2061  Validation Accuracy: 51.61%Loss: 1.1501  Validation Accuracy: 55.32%Loss: 1.1746  Validation Accuracy: 54.21%Loss: 1.1644  Validation Accuracy: 54.58%Loss: 1.1787  Validation Accuracy: 53.47%Loss: 1.1997  Validation Accuracy: 53.22%Loss: 1.1440  Validation Accuracy: 56.06%Loss: 1.1669  Validation Accuracy: 54.21%\r"
     ]
    },
    {
     "name": "stdout",
     "output_type": "stream",
     "text": [
      "Epoch 160, CIFAR-10 Batch 4:  Loss: 1.1574  Validation Accuracy: 54.95%Loss: 1.1711  Validation Accuracy: 53.59%Loss: 1.1939  Validation Accuracy: 53.09%Loss: 1.1411  Validation Accuracy: 55.82%Loss: 1.1618  Validation Accuracy: 54.46%Loss: 1.1508  Validation Accuracy: 55.32%Loss: 1.1670  Validation Accuracy: 53.96%Loss: 1.1877  Validation Accuracy: 52.85%Loss: 1.1355  Validation Accuracy: 55.94%Loss: 1.1545  Validation Accuracy: 54.58%Loss: 1.1459  Validation Accuracy: 56.31%Loss: 1.1627  Validation Accuracy: 54.08%Loss: 1.1815  Validation Accuracy: 53.71%Loss: 1.1310  Validation Accuracy: 56.68%Loss: 1.1514  Validation Accuracy: 53.84%Loss: 1.1425  Validation Accuracy: 55.94%Loss: 1.1566  Validation Accuracy: 54.33%Loss: 1.1768  Validation Accuracy: 53.71%Loss: 1.1272  Validation Accuracy: 56.56%Loss: 1.1448  Validation Accuracy: 54.58%Loss: 1.1352  Validation Accuracy: 55.82%Loss: 1.1532  Validation Accuracy: 54.58%Loss: 1.1709  Validation Accuracy: 53.84%Loss: 1.1221  Validation Accuracy: 55.94%Loss: 1.1397  Validation Accuracy: 55.94%Loss: 1.1284  Validation Accuracy: 56.19%Loss: 1.1489  Validation Accuracy: 53.84%Loss: 1.1671  Validation Accuracy: 53.96%Loss: 1.1175  Validation Accuracy: 56.31%Loss: 1.1349  Validation Accuracy: 54.95%Loss: 1.1241  Validation Accuracy: 56.81%Loss: 1.1435  Validation Accuracy: 54.95%Loss: 1.1612  Validation Accuracy: 54.21%Loss: 1.1153  Validation Accuracy: 56.68%Loss: 1.1285  Validation Accuracy: 56.06%Loss: 1.1190  Validation Accuracy: 56.68%Loss: 1.1386  Validation Accuracy: 54.46%Loss: 1.1553  Validation Accuracy: 54.70%Loss: 1.1098  Validation Accuracy: 56.19%Loss: 1.1261  Validation Accuracy: 55.82%Loss: 1.1152  Validation Accuracy: 57.05%Loss: 1.1331  Validation Accuracy: 54.95%Loss: 1.1508  Validation Accuracy: 55.07%Loss: 1.1081  Validation Accuracy: 56.31%Loss: 1.1214  Validation Accuracy: 55.57%Loss: 1.1106  Validation Accuracy: 57.55%Loss: 1.1298  Validation Accuracy: 55.69%Loss: 1.1460  Validation Accuracy: 55.69%Loss: 1.1012  Validation Accuracy: 56.56%Loss: 1.1178  Validation Accuracy: 56.31%Loss: 1.1036  Validation Accuracy: 57.55%Loss: 1.1257  Validation Accuracy: 54.83%Loss: 1.1446  Validation Accuracy: 55.57%Loss: 1.0969  Validation Accuracy: 57.05%Loss: 1.1135  Validation Accuracy: 56.68%Loss: 1.0990  Validation Accuracy: 57.67%Loss: 1.1203  Validation Accuracy: 55.45%Loss: 1.1373  Validation Accuracy: 56.44%Loss: 1.0937  Validation Accuracy: 57.43%Loss: 1.1095  Validation Accuracy: 57.18%Loss: 1.0925  Validation Accuracy: 58.54%Loss: 1.1159  Validation Accuracy: 55.57%Loss: 1.1336  Validation Accuracy: 55.57%Loss: 1.0884  Validation Accuracy: 57.30%Loss: 1.1043  Validation Accuracy: 57.18%Loss: 1.0903  Validation Accuracy: 57.92%Loss: 1.1129  Validation Accuracy: 55.69%Loss: 1.1268  Validation Accuracy: 55.94%Loss: 1.0849  Validation Accuracy: 57.30%Loss: 1.1012  Validation Accuracy: 57.05%Loss: 1.0837  Validation Accuracy: 58.04%Loss: 1.1070  Validation Accuracy: 56.19%Loss: 1.1241  Validation Accuracy: 56.06%Loss: 1.0806  Validation Accuracy: 57.18%Loss: 1.0955  Validation Accuracy: 57.43%Loss: 1.0811  Validation Accuracy: 58.54%Loss: 1.1030  Validation Accuracy: 57.18%Loss: 1.1197  Validation Accuracy: 56.06%Loss: 1.0755  Validation Accuracy: 56.93%Loss: 1.0940  Validation Accuracy: 57.30%Loss: 1.0744  Validation Accuracy: 58.54%Loss: 1.1003  Validation Accuracy: 56.56%Loss: 1.1151  Validation Accuracy: 56.31%Loss: 1.0710  Validation Accuracy: 57.55%Loss: 1.0887  Validation Accuracy: 57.80%Loss: 1.0691  Validation Accuracy: 59.28%Loss: 1.0966  Validation Accuracy: 57.30%Loss: 1.1112  Validation Accuracy: 56.31%Loss: 1.0698  Validation Accuracy: 58.42%Loss: 1.0874  Validation Accuracy: 58.17%Loss: 1.0693  Validation Accuracy: 58.66%Loss: 1.0932  Validation Accuracy: 57.80%Loss: 1.1068  Validation Accuracy: 55.57%Loss: 1.0668  Validation Accuracy: 58.42%Loss: 1.0844  Validation Accuracy: 57.92%Loss: 1.0630  Validation Accuracy: 59.41%Loss: 1.0887  Validation Accuracy: 56.93%Loss: 1.1035  Validation Accuracy: 56.31%Loss: 1.0631  Validation Accuracy: 58.66%Loss: 1.0794  Validation Accuracy: 58.17%Loss: 1.0588  Validation Accuracy: 58.42%Loss: 1.0854  Validation Accuracy: 58.04%Loss: 1.0992  Validation Accuracy: 56.68%Loss: 1.0585  Validation Accuracy: 58.54%Loss: 1.0759  Validation Accuracy: 58.29%Loss: 1.0549  Validation Accuracy: 59.16%Loss: 1.0811  Validation Accuracy: 58.42%Loss: 1.0932  Validation Accuracy: 56.56%Loss: 1.0520  Validation Accuracy: 58.54%Loss: 1.0697  Validation Accuracy: 58.42%Loss: 1.0512  Validation Accuracy: 59.41%Loss: 1.0787  Validation Accuracy: 58.42%Loss: 1.0891  Validation Accuracy: 56.93%Loss: 1.0503  Validation Accuracy: 59.03%Loss: 1.0701  Validation Accuracy: 57.92%Loss: 1.0479  Validation Accuracy: 59.53%Loss: 1.0734  Validation Accuracy: 58.54%Loss: 1.0861  Validation Accuracy: 56.31%Loss: 1.0473  Validation Accuracy: 59.16%Loss: 1.0660  Validation Accuracy: 59.28%Loss: 1.0442  Validation Accuracy: 59.65%Loss: 1.0706  Validation Accuracy: 59.03%Loss: 1.0798  Validation Accuracy: 57.80%Loss: 1.0423  Validation Accuracy: 59.28%Loss: 1.0626  Validation Accuracy: 59.28%Loss: 1.0437  Validation Accuracy: 59.65%Loss: 1.0710  Validation Accuracy: 59.53%Loss: 1.0776  Validation Accuracy: 57.92%Loss: 1.0404  Validation Accuracy: 59.41%Loss: 1.0648  Validation Accuracy: 57.30%Loss: 1.0418  Validation Accuracy: 60.02%Loss: 1.0653  Validation Accuracy: 59.41%Loss: 1.0750  Validation Accuracy: 58.04%Loss: 1.0359  Validation Accuracy: 59.78%Loss: 1.0568  Validation Accuracy: 58.54%Loss: 1.0378  Validation Accuracy: 60.02%Loss: 1.0651  Validation Accuracy: 59.16%Loss: 1.0698  Validation Accuracy: 57.30%Loss: 1.0324  Validation Accuracy: 59.65%Loss: 1.0577  Validation Accuracy: 58.91%Loss: 1.0414  Validation Accuracy: 59.90%Loss: 1.0634  Validation Accuracy: 58.79%Loss: 1.0674  Validation Accuracy: 58.17%Loss: 1.0257  Validation Accuracy: 59.53%Loss: 1.0531  Validation Accuracy: 59.16%Loss: 1.0347  Validation Accuracy: 60.40%Loss: 1.0639  Validation Accuracy: 59.28%Loss: 1.0652  Validation Accuracy: 57.92%Loss: 1.0231  Validation Accuracy: 60.15%Loss: 1.0472  Validation Accuracy: 60.27%Loss: 1.0318  Validation Accuracy: 60.77%Loss: 1.0578  Validation Accuracy: 59.65%Loss: 1.0679  Validation Accuracy: 58.29%Loss: 1.0207  Validation Accuracy: 60.52%Loss: 1.0431  Validation Accuracy: 60.52%Loss: 1.0219  Validation Accuracy: 60.40%Loss: 1.0521  Validation Accuracy: 59.53%Loss: 1.0609  Validation Accuracy: 59.03%Loss: 1.0146  Validation Accuracy: 59.90%Loss: 1.0379  Validation Accuracy: 59.65%Loss: 1.0218  Validation Accuracy: 60.64%Loss: 1.0525  Validation Accuracy: 60.27%Loss: 1.0561  Validation Accuracy: 59.16%Loss: 1.0108  Validation Accuracy: 60.64%Loss: 1.0382  Validation Accuracy: 59.78%Loss: 1.0199  Validation Accuracy: 61.63%Loss: 1.0515  Validation Accuracy: 60.15%Loss: 1.0541  Validation Accuracy: 59.03%Loss: 1.0098  Validation Accuracy: 60.64%Loss: 1.0345  Validation Accuracy: 60.64%Loss: 1.0129  Validation Accuracy: 61.14%Loss: 1.0480  Validation Accuracy: 60.40%Loss: 1.0530  Validation Accuracy: 58.66%Loss: 1.0051  Validation Accuracy: 60.15%Loss: 1.0300  Validation Accuracy: 60.52%Loss: 1.0100  Validation Accuracy: 60.77%Loss: 1.0390  Validation Accuracy: 60.15%Loss: 1.0469  Validation Accuracy: 59.16%Loss: 1.0014  Validation Accuracy: 60.15%Loss: 1.0269  Validation Accuracy: 60.40%Loss: 1.0082  Validation Accuracy: 61.39%Loss: 1.0356  Validation Accuracy: 59.41%Loss: 1.0418  Validation Accuracy: 59.16%Loss: 0.9984  Validation Accuracy: 61.14%Loss: 1.0225  Validation Accuracy: 61.01%Loss: 1.0042  Validation Accuracy: 61.51%Loss: 1.0332  Validation Accuracy: 60.52%Loss: 1.0404  Validation Accuracy: 59.28%Loss: 0.9962  Validation Accuracy: 61.39%Loss: 1.0210  Validation Accuracy: 60.40%Loss: 1.0020  Validation Accuracy: 61.63%Loss: 1.0314  Validation Accuracy: 60.27%Loss: 1.0363  Validation Accuracy: 59.65%Loss: 0.9932  Validation Accuracy: 60.89%Loss: 1.0212  Validation Accuracy: 61.14%Loss: 0.9980  Validation Accuracy: 61.76%Loss: 1.0269  Validation Accuracy: 60.52%Loss: 1.0338  Validation Accuracy: 60.40%Loss: 0.9897  Validation Accuracy: 61.01%Loss: 1.0169  Validation Accuracy: 60.89%\r"
     ]
    },
    {
     "name": "stdout",
     "output_type": "stream",
     "text": [
      "Epoch 200, CIFAR-10 Batch 4:  Loss: 0.9963  Validation Accuracy: 61.51%Loss: 1.0234  Validation Accuracy: 60.64%Loss: 1.0268  Validation Accuracy: 60.40%Loss: 0.9854  Validation Accuracy: 61.88%Loss: 1.0138  Validation Accuracy: 61.01%Loss: 0.9919  Validation Accuracy: 61.26%Loss: 1.0212  Validation Accuracy: 60.15%Loss: 1.0235  Validation Accuracy: 60.64%Loss: 0.9827  Validation Accuracy: 62.38%Loss: 1.0116  Validation Accuracy: 61.39%Loss: 0.9902  Validation Accuracy: 61.76%Loss: 1.0181  Validation Accuracy: 61.01%Loss: 1.0193  Validation Accuracy: 59.78%Loss: 0.9805  Validation Accuracy: 61.88%Loss: 1.0060  Validation Accuracy: 61.01%Loss: 0.9866  Validation Accuracy: 62.38%Loss: 1.0161  Validation Accuracy: 61.51%Loss: 1.0180  Validation Accuracy: 60.02%Loss: 0.9771  Validation Accuracy: 62.25%Loss: 1.0039  Validation Accuracy: 61.63%Loss: 0.9825  Validation Accuracy: 62.13%Loss: 1.0131  Validation Accuracy: 60.89%Loss: 1.0168  Validation Accuracy: 60.15%Loss: 0.9760  Validation Accuracy: 61.76%Loss: 1.0017  Validation Accuracy: 61.51%Loss: 0.9792  Validation Accuracy: 62.13%Loss: 1.0104  Validation Accuracy: 60.64%Loss: 1.0107  Validation Accuracy: 60.64%Loss: 0.9725  Validation Accuracy: 62.38%Loss: 1.0015  Validation Accuracy: 61.63%Loss: 0.9759  Validation Accuracy: 62.50%Loss: 1.0099  Validation Accuracy: 61.39%Loss: 1.0087  Validation Accuracy: 60.64%Loss: 0.9692  Validation Accuracy: 62.38%Loss: 0.9975  Validation Accuracy: 61.14%Loss: 0.9747  Validation Accuracy: 62.25%Loss: 1.0074  Validation Accuracy: 61.14%Loss: 1.0073  Validation Accuracy: 60.64%Loss: 0.9657  Validation Accuracy: 61.76%Loss: 0.9936  Validation Accuracy: 61.88%Loss: 0.9717  Validation Accuracy: 62.38%Loss: 1.0054  Validation Accuracy: 61.39%Loss: 0.9997  Validation Accuracy: 60.40%Loss: 0.9636  Validation Accuracy: 62.87%Loss: 0.9907  Validation Accuracy: 61.88%Loss: 0.9702  Validation Accuracy: 62.75%Loss: 1.0022  Validation Accuracy: 61.51%Loss: 0.9968  Validation Accuracy: 60.15%Loss: 0.9590  Validation Accuracy: 62.25%Loss: 0.9865  Validation Accuracy: 61.63%Loss: 0.9672  Validation Accuracy: 62.87%Loss: 0.9996  Validation Accuracy: 62.00%Loss: 0.9960  Validation Accuracy: 60.77%Loss: 0.9556  Validation Accuracy: 62.75%Loss: 0.9848  Validation Accuracy: 62.13%Loss: 0.9648  Validation Accuracy: 62.75%Loss: 0.9996  Validation Accuracy: 61.63%Loss: 0.9920  Validation Accuracy: 61.01%Loss: 0.9529  Validation Accuracy: 62.75%Loss: 0.9814  Validation Accuracy: 61.63%Loss: 0.9629  Validation Accuracy: 63.00%Loss: 0.9943  Validation Accuracy: 62.00%Loss: 0.9887  Validation Accuracy: 61.01%Loss: 0.9504  Validation Accuracy: 62.75%Loss: 0.9788  Validation Accuracy: 61.88%Loss: 0.9617  Validation Accuracy: 62.87%Loss: 0.9916  Validation Accuracy: 61.26%Loss: 0.9866  Validation Accuracy: 60.77%Loss: 0.9493  Validation Accuracy: 63.12%Loss: 0.9761  Validation Accuracy: 61.76%Loss: 0.9580  Validation Accuracy: 63.37%Loss: 0.9910  Validation Accuracy: 61.51%Loss: 0.9823  Validation Accuracy: 61.63%Loss: 0.9464  Validation Accuracy: 62.13%Loss: 0.9744  Validation Accuracy: 62.50%Loss: 0.9567  Validation Accuracy: 63.99%Loss: 0.9860  Validation Accuracy: 61.88%Loss: 0.9807  Validation Accuracy: 61.76%Loss: 0.9451  Validation Accuracy: 62.62%Loss: 0.9701  Validation Accuracy: 62.75%Loss: 0.9550  Validation Accuracy: 63.37%Loss: 0.9849  Validation Accuracy: 61.76%Loss: 0.9783  Validation Accuracy: 61.88%Loss: 0.9411  Validation Accuracy: 63.12%Loss: 0.9689  Validation Accuracy: 62.62%Loss: 0.9535  Validation Accuracy: 63.37%Loss: 0.9839  Validation Accuracy: 61.63%Loss: 0.9758  Validation Accuracy: 62.13%Loss: 0.9399  Validation Accuracy: 62.50%Loss: 0.9680  Validation Accuracy: 63.12%Loss: 0.9498  Validation Accuracy: 63.86%Loss: 0.9823  Validation Accuracy: 61.88%Loss: 0.9748  Validation Accuracy: 60.52%Loss: 0.9379  Validation Accuracy: 62.62%Loss: 0.9639  Validation Accuracy: 62.50%Loss: 0.9493  Validation Accuracy: 64.23%Loss: 0.9794  Validation Accuracy: 61.76%Loss: 0.9702  Validation Accuracy: 62.13%Loss: 0.9353  Validation Accuracy: 63.00%Loss: 0.9608  Validation Accuracy: 62.75%Loss: 0.9459  Validation Accuracy: 64.36%Loss: 0.9789  Validation Accuracy: 62.13%Loss: 0.9691  Validation Accuracy: 62.62%Loss: 0.9327  Validation Accuracy: 63.12%Loss: 0.9592  Validation Accuracy: 63.00%Loss: 0.9438  Validation Accuracy: 64.36%Loss: 0.9763  Validation Accuracy: 62.13%Loss: 0.9675  Validation Accuracy: 61.26%Loss: 0.9297  Validation Accuracy: 63.37%Loss: 0.9567  Validation Accuracy: 63.12%Loss: 0.9429  Validation Accuracy: 64.98%Loss: 0.9752  Validation Accuracy: 61.88%Loss: 0.9636  Validation Accuracy: 61.51%Loss: 0.9257  Validation Accuracy: 63.37%Loss: 0.9541  Validation Accuracy: 62.62%Loss: 0.9396  Validation Accuracy: 63.86%Loss: 0.9718  Validation Accuracy: 61.88%Loss: 0.9584  Validation Accuracy: 62.00%Loss: 0.9242  Validation Accuracy: 63.24%Loss: 0.9521  Validation Accuracy: 63.74%Loss: 0.9375  Validation Accuracy: 64.23%Loss: 0.9703  Validation Accuracy: 62.13%Loss: 0.9563  Validation Accuracy: 62.00%Loss: 0.9216  Validation Accuracy: 63.12%Loss: 0.9491  Validation Accuracy: 63.61%Loss: 0.9345  Validation Accuracy: 65.10%Loss: 0.9658  Validation Accuracy: 62.25%Loss: 0.9559  Validation Accuracy: 62.00%Loss: 0.9210  Validation Accuracy: 63.37%Loss: 0.9469  Validation Accuracy: 63.49%Loss: 0.9331  Validation Accuracy: 63.86%Loss: 0.9649  Validation Accuracy: 62.38%Loss: 0.9517  Validation Accuracy: 61.63%Loss: 0.9179  Validation Accuracy: 63.37%Loss: 0.9437  Validation Accuracy: 63.49%Loss: 0.9313  Validation Accuracy: 64.73%Loss: 0.9634  Validation Accuracy: 63.24%Loss: 0.9506  Validation Accuracy: 61.26%Loss: 0.9163  Validation Accuracy: 64.11%Loss: 0.9436  Validation Accuracy: 63.49%Loss: 0.9299  Validation Accuracy: 63.74%Loss: 0.9617  Validation Accuracy: 62.50%Loss: 0.9483  Validation Accuracy: 62.00%Loss: 0.9110  Validation Accuracy: 63.99%Loss: 0.9386  Validation Accuracy: 63.61%Loss: 0.9282  Validation Accuracy: 64.85%Loss: 0.9602  Validation Accuracy: 62.25%Loss: 0.9465  Validation Accuracy: 61.88%Loss: 0.9109  Validation Accuracy: 64.60%Loss: 0.9385  Validation Accuracy: 63.49%Loss: 0.9267  Validation Accuracy: 64.36%Loss: 0.9593  Validation Accuracy: 62.87%Loss: 0.9440  Validation Accuracy: 62.25%Loss: 0.9087  Validation Accuracy: 63.99%Loss: 0.9361  Validation Accuracy: 63.61%Loss: 0.9237  Validation Accuracy: 64.48%Loss: 0.9565  Validation Accuracy: 63.24%Loss: 0.9397  Validation Accuracy: 62.25%Loss: 0.9065  Validation Accuracy: 64.60%Loss: 0.9331  Validation Accuracy: 64.11%Loss: 0.9223  Validation Accuracy: 65.22%Loss: 0.9552  Validation Accuracy: 63.24%Loss: 0.9381  Validation Accuracy: 62.50%Loss: 0.9039  Validation Accuracy: 63.99%Loss: 0.9297  Validation Accuracy: 64.36%Loss: 0.9201  Validation Accuracy: 65.22%Loss: 0.9520  Validation Accuracy: 62.62%Loss: 0.9353  Validation Accuracy: 63.00%Loss: 0.9011  Validation Accuracy: 64.73%Loss: 0.9288  Validation Accuracy: 63.99%Loss: 0.9177  Validation Accuracy: 64.85%Loss: 0.9515  Validation Accuracy: 63.74%Loss: 0.9334  Validation Accuracy: 62.87%Loss: 0.9002  Validation Accuracy: 64.73%Loss: 0.9280  Validation Accuracy: 63.86%Loss: 0.9148  Validation Accuracy: 64.60%Loss: 0.9490  Validation Accuracy: 62.50%Loss: 0.9318  Validation Accuracy: 62.62%Loss: 0.8974  Validation Accuracy: 65.10%Loss: 0.9241  Validation Accuracy: 64.60%Loss: 0.9123  Validation Accuracy: 64.73%Loss: 0.9449  Validation Accuracy: 62.87%Loss: 0.9292  Validation Accuracy: 63.49%Loss: 0.8957  Validation Accuracy: 65.35%Loss: 0.9226  Validation Accuracy: 64.60%Loss: 0.9117  Validation Accuracy: 65.47%Loss: 0.9467  Validation Accuracy: 63.49%Loss: 0.9281  Validation Accuracy: 62.62%Loss: 0.8920  Validation Accuracy: 65.10%Loss: 0.9194  Validation Accuracy: 64.36%Loss: 0.9104  Validation Accuracy: 65.59%Loss: 0.9432  Validation Accuracy: 63.74%Loss: 0.9252  Validation Accuracy: 62.38%Loss: 0.8911  Validation Accuracy: 64.73%Loss: 0.9185  Validation Accuracy: 63.99%Loss: 0.9094  Validation Accuracy: 64.60%Loss: 0.9440  Validation Accuracy: 63.61%Loss: 0.9245  Validation Accuracy: 63.12%Loss: 0.8905  Validation Accuracy: 65.59%Loss: 0.9175  Validation Accuracy: 64.23%\r"
     ]
    },
    {
     "name": "stdout",
     "output_type": "stream",
     "text": [
      "Epoch 240, CIFAR-10 Batch 4:  Loss: 0.9065  Validation Accuracy: 65.72%Loss: 0.9400  Validation Accuracy: 63.49%Loss: 0.9178  Validation Accuracy: 63.24%Loss: 0.8870  Validation Accuracy: 65.47%Loss: 0.9136  Validation Accuracy: 64.73%Loss: 0.9054  Validation Accuracy: 64.73%Loss: 0.9377  Validation Accuracy: 63.37%Loss: 0.9181  Validation Accuracy: 63.61%Loss: 0.8859  Validation Accuracy: 65.35%Loss: 0.9120  Validation Accuracy: 64.11%Loss: 0.9018  Validation Accuracy: 65.35%Loss: 0.9363  Validation Accuracy: 63.24%Loss: 0.9167  Validation Accuracy: 63.24%Loss: 0.8835  Validation Accuracy: 65.47%Loss: 0.9120  Validation Accuracy: 64.73%Loss: 0.8998  Validation Accuracy: 65.22%Loss: 0.9336  Validation Accuracy: 63.24%Loss: 0.9131  Validation Accuracy: 63.61%Loss: 0.8822  Validation Accuracy: 64.98%Loss: 0.9088  Validation Accuracy: 65.10%Loss: 0.9014  Validation Accuracy: 65.47%Loss: 0.9323  Validation Accuracy: 63.24%Loss: 0.9107  Validation Accuracy: 63.37%Loss: 0.8829  Validation Accuracy: 65.84%Loss: 0.9063  Validation Accuracy: 64.85%Loss: 0.9005  Validation Accuracy: 65.22%Loss: 0.9321  Validation Accuracy: 63.99%Loss: 0.9102  Validation Accuracy: 63.74%Loss: 0.8800  Validation Accuracy: 65.35%Loss: 0.9042  Validation Accuracy: 65.22%Loss: 0.8951  Validation Accuracy: 65.47%Loss: 0.9288  Validation Accuracy: 63.99%Loss: 0.9064  Validation Accuracy: 64.23%Loss: 0.8763  Validation Accuracy: 66.09%Loss: 0.9042  Validation Accuracy: 65.35%Loss: 0.8947  Validation Accuracy: 65.22%Loss: 0.9284  Validation Accuracy: 63.74%Loss: 0.9070  Validation Accuracy: 63.99%Loss: 0.8745  Validation Accuracy: 65.84%Loss: 0.9010  Validation Accuracy: 65.59%Loss: 0.8937  Validation Accuracy: 65.84%Loss: 0.9267  Validation Accuracy: 64.23%Loss: 0.9038  Validation Accuracy: 63.74%Loss: 0.8731  Validation Accuracy: 65.72%Loss: 0.8980  Validation Accuracy: 65.72%Loss: 0.8908  Validation Accuracy: 66.34%Loss: 0.9237  Validation Accuracy: 63.99%Loss: 0.9024  Validation Accuracy: 63.99%Loss: 0.8716  Validation Accuracy: 65.84%Loss: 0.8986  Validation Accuracy: 65.72%Loss: 0.8895  Validation Accuracy: 65.59%Loss: 0.9248  Validation Accuracy: 63.37%Loss: 0.9014  Validation Accuracy: 64.23%Loss: 0.8690  Validation Accuracy: 65.22%Loss: 0.8984  Validation Accuracy: 66.34%Loss: 0.8883  Validation Accuracy: 65.59%Loss: 0.9203  Validation Accuracy: 63.61%Loss: 0.8979  Validation Accuracy: 64.98%Loss: 0.8680  Validation Accuracy: 66.09%Loss: 0.8939  Validation Accuracy: 65.97%Loss: 0.8869  Validation Accuracy: 65.84%Loss: 0.9174  Validation Accuracy: 64.36%Loss: 0.8987  Validation Accuracy: 64.73%Loss: 0.8665  Validation Accuracy: 65.97%Loss: 0.8910  Validation Accuracy: 66.46%Loss: 0.8823  Validation Accuracy: 66.21%Loss: 0.9165  Validation Accuracy: 64.23%Loss: 0.8949  Validation Accuracy: 64.85%Loss: 0.8657  Validation Accuracy: 65.97%Loss: 0.8904  Validation Accuracy: 65.22%Loss: 0.8827  Validation Accuracy: 66.21%Loss: 0.9139  Validation Accuracy: 63.86%Loss: 0.8932  Validation Accuracy: 64.48%Loss: 0.8636  Validation Accuracy: 66.71%Loss: 0.8872  Validation Accuracy: 66.34%Loss: 0.8822  Validation Accuracy: 66.46%Loss: 0.9124  Validation Accuracy: 64.23%Loss: 0.8912  Validation Accuracy: 64.48%Loss: 0.8621  Validation Accuracy: 66.58%Loss: 0.8870  Validation Accuracy: 66.96%Loss: 0.8801  Validation Accuracy: 66.09%Loss: 0.9123  Validation Accuracy: 63.86%Loss: 0.8900  Validation Accuracy: 64.60%Loss: 0.8601  Validation Accuracy: 66.21%Loss: 0.8864  Validation Accuracy: 66.09%Loss: 0.8798  Validation Accuracy: 66.34%Loss: 0.9117  Validation Accuracy: 63.49%Loss: 0.8924  Validation Accuracy: 64.73%Loss: 0.8587  Validation Accuracy: 66.34%Loss: 0.8846  Validation Accuracy: 65.97%Loss: 0.8783  Validation Accuracy: 65.22%Loss: 0.9089  Validation Accuracy: 63.61%Loss: 0.8869  Validation Accuracy: 65.35%Loss: 0.8573  Validation Accuracy: 66.46%Loss: 0.8810  Validation Accuracy: 66.96%Loss: 0.8761  Validation Accuracy: 65.72%Loss: 0.9046  Validation Accuracy: 64.73%Loss: 0.8842  Validation Accuracy: 65.47%Loss: 0.8571  Validation Accuracy: 66.83%Loss: 0.8797  Validation Accuracy: 67.33%Loss: 0.8732  Validation Accuracy: 65.97%Loss: 0.9042  Validation Accuracy: 64.36%Loss: 0.8833  Validation Accuracy: 65.22%Loss: 0.8542  Validation Accuracy: 66.96%Loss: 0.8779  Validation Accuracy: 67.20%Loss: 0.8726  Validation Accuracy: 66.46%Loss: 0.9025  Validation Accuracy: 64.48%Loss: 0.8819  Validation Accuracy: 64.98%Loss: 0.8541  Validation Accuracy: 67.95%Loss: 0.8760  Validation Accuracy: 67.08%Loss: 0.8708  Validation Accuracy: 66.34%Loss: 0.9012  Validation Accuracy: 64.11%Loss: 0.8812  Validation Accuracy: 65.10%Loss: 0.8510  Validation Accuracy: 66.96%Loss: 0.8762  Validation Accuracy: 67.08%Loss: 0.8693  Validation Accuracy: 66.46%Loss: 0.8985  Validation Accuracy: 64.73%Loss: 0.8785  Validation Accuracy: 64.85%Loss: 0.8501  Validation Accuracy: 67.45%Loss: 0.8743  Validation Accuracy: 67.57%Loss: 0.8696  Validation Accuracy: 66.09%Loss: 0.8991  Validation Accuracy: 64.11%Loss: 0.8790  Validation Accuracy: 65.47%Loss: 0.8486  Validation Accuracy: 66.46%Loss: 0.8733  Validation Accuracy: 66.21%Loss: 0.8672  Validation Accuracy: 66.83%Loss: 0.8951  Validation Accuracy: 64.98%Loss: 0.8736  Validation Accuracy: 65.59%Loss: 0.8464  Validation Accuracy: 67.08%Loss: 0.8706  Validation Accuracy: 67.45%Loss: 0.8671  Validation Accuracy: 65.97%Loss: 0.8946  Validation Accuracy: 64.48%Loss: 0.8736  Validation Accuracy: 65.72%Loss: 0.8480  Validation Accuracy: 67.70%Loss: 0.8688  Validation Accuracy: 67.95%Loss: 0.8645  Validation Accuracy: 66.71%Loss: 0.8931  Validation Accuracy: 64.36%Loss: 0.8745  Validation Accuracy: 65.47%Loss: 0.8441  Validation Accuracy: 66.71%Loss: 0.8652  Validation Accuracy: 68.07%Loss: 0.8631  Validation Accuracy: 66.96%Loss: 0.8908  Validation Accuracy: 64.85%Loss: 0.8707  Validation Accuracy: 66.34%Loss: 0.8451  Validation Accuracy: 66.96%Loss: 0.8645  Validation Accuracy: 68.07%Loss: 0.8617  Validation Accuracy: 67.08%Loss: 0.8903  Validation Accuracy: 64.48%Loss: 0.8710  Validation Accuracy: 65.59%Loss: 0.8428  Validation Accuracy: 67.45%Loss: 0.8630  Validation Accuracy: 68.07%Loss: 0.8631  Validation Accuracy: 66.71%Loss: 0.8907  Validation Accuracy: 63.74%Loss: 0.8707  Validation Accuracy: 65.84%Loss: 0.8387  Validation Accuracy: 67.08%Loss: 0.8622  Validation Accuracy: 67.33%Loss: 0.8617  Validation Accuracy: 67.70%Loss: 0.8860  Validation Accuracy: 65.22%Loss: 0.8677  Validation Accuracy: 65.72%Loss: 0.8414  Validation Accuracy: 67.70%Loss: 0.8611  Validation Accuracy: 67.95%Loss: 0.8585  Validation Accuracy: 67.20%Loss: 0.8862  Validation Accuracy: 64.85%Loss: 0.8657  Validation Accuracy: 66.09%Loss: 0.8450  Validation Accuracy: 67.20%Loss: 0.8621  Validation Accuracy: 67.33%Loss: 0.8583  Validation Accuracy: 67.33%Loss: 0.8831  Validation Accuracy: 64.73%Loss: 0.8649  Validation Accuracy: 65.35%Loss: 0.8444  Validation Accuracy: 66.96%Loss: 0.8615  Validation Accuracy: 67.82%Loss: 0.8570  Validation Accuracy: 66.96%Loss: 0.8801  Validation Accuracy: 65.22%Loss: 0.8589  Validation Accuracy: 66.34%Loss: 0.8385  Validation Accuracy: 67.08%Loss: 0.8612  Validation Accuracy: 68.07%Loss: 0.8601  Validation Accuracy: 67.08%Loss: 0.8808  Validation Accuracy: 65.47%Loss: 0.8603  Validation Accuracy: 66.21%Loss: 0.8417  Validation Accuracy: 67.33%Loss: 0.8616  Validation Accuracy: 67.70%Loss: 0.8607  Validation Accuracy: 66.58%Loss: 0.8835  Validation Accuracy: 64.11%Loss: 0.8581  Validation Accuracy: 65.97%Loss: 0.8378  Validation Accuracy: 67.08%Loss: 0.8596  Validation Accuracy: 67.70%Loss: 0.8598  Validation Accuracy: 67.20%Loss: 0.8864  Validation Accuracy: 64.48%Loss: 0.8556  Validation Accuracy: 67.08%Loss: 0.8349  Validation Accuracy: 67.08%Loss: 0.8576  Validation Accuracy: 68.32%Loss: 0.8556  Validation Accuracy: 67.57%Loss: 0.8884  Validation Accuracy: 64.73%Loss: 0.8587  Validation Accuracy: 66.21%Loss: 0.8301  Validation Accuracy: 67.20%Loss: 0.8488  Validation Accuracy: 68.69%Loss: 0.8522  Validation Accuracy: 66.96%Loss: 0.8829  Validation Accuracy: 64.60%Loss: 0.8559  Validation Accuracy: 66.58%Loss: 0.8284  Validation Accuracy: 66.96%Loss: 0.8499  Validation Accuracy: 68.44%\r"
     ]
    },
    {
     "name": "stdout",
     "output_type": "stream",
     "text": [
      "Epoch 280, CIFAR-10 Batch 4:  Loss: 0.8528  Validation Accuracy: 67.45%Loss: 0.8811  Validation Accuracy: 65.22%Loss: 0.8603  Validation Accuracy: 65.84%Loss: 0.8285  Validation Accuracy: 66.83%Loss: 0.8480  Validation Accuracy: 68.19%Loss: 0.8504  Validation Accuracy: 68.32%Loss: 0.8732  Validation Accuracy: 64.73%Loss: 0.8531  Validation Accuracy: 66.46%Loss: 0.8296  Validation Accuracy: 66.71%Loss: 0.8462  Validation Accuracy: 68.56%Loss: 0.8494  Validation Accuracy: 68.32%Loss: 0.8715  Validation Accuracy: 65.59%Loss: 0.8477  Validation Accuracy: 66.96%Loss: 0.8235  Validation Accuracy: 67.08%Loss: 0.8431  Validation Accuracy: 68.81%Loss: 0.8458  Validation Accuracy: 67.08%Loss: 0.8719  Validation Accuracy: 65.59%Loss: 0.8484  Validation Accuracy: 66.34%Loss: 0.8224  Validation Accuracy: 67.20%Loss: 0.8416  Validation Accuracy: 68.19%Loss: 0.8503  Validation Accuracy: 67.95%Loss: 0.8732  Validation Accuracy: 65.84%Loss: 0.8510  Validation Accuracy: 66.46%Loss: 0.8222  Validation Accuracy: 67.33%Loss: 0.8423  Validation Accuracy: 68.94%Loss: 0.8471  Validation Accuracy: 68.07%Loss: 0.8715  Validation Accuracy: 65.97%Loss: 0.8457  Validation Accuracy: 66.09%Loss: 0.8203  Validation Accuracy: 66.96%Loss: 0.8422  Validation Accuracy: 68.56%Loss: 0.8441  Validation Accuracy: 67.70%Loss: 0.8670  Validation Accuracy: 66.34%Loss: 0.8459  Validation Accuracy: 66.58%Loss: 0.8172  Validation Accuracy: 66.83%Loss: 0.8379  Validation Accuracy: 68.81%Loss: 0.8468  Validation Accuracy: 67.82%Loss: 0.8676  Validation Accuracy: 66.34%Loss: 0.8487  Validation Accuracy: 66.71%Loss: 0.8142  Validation Accuracy: 66.96%Loss: 0.8354  Validation Accuracy: 68.69%Loss: 0.8436  Validation Accuracy: 68.32%Loss: 0.8661  Validation Accuracy: 66.83%Loss: 0.8473  Validation Accuracy: 66.96%Loss: 0.8142  Validation Accuracy: 67.45%Loss: 0.8337  Validation Accuracy: 69.06%Loss: 0.8387  Validation Accuracy: 67.20%Loss: 0.8624  Validation Accuracy: 67.08%Loss: 0.8425  Validation Accuracy: 67.08%Loss: 0.8123  Validation Accuracy: 67.33%Loss: 0.8321  Validation Accuracy: 68.19%Loss: 0.8365  Validation Accuracy: 67.82%Loss: 0.8610  Validation Accuracy: 66.83%Loss: 0.8433  Validation Accuracy: 67.95%Loss: 0.8121  Validation Accuracy: 67.70%Loss: 0.8305  Validation Accuracy: 68.07%Loss: 0.8370  Validation Accuracy: 67.45%Loss: 0.8593  Validation Accuracy: 66.71%Loss: 0.8430  Validation Accuracy: 66.83%Loss: 0.8119  Validation Accuracy: 67.20%Loss: 0.8299  Validation Accuracy: 67.95%Loss: 0.8349  Validation Accuracy: 67.57%Loss: 0.8579  Validation Accuracy: 66.83%Loss: 0.8402  Validation Accuracy: 67.20%Loss: 0.8096  Validation Accuracy: 67.70%Loss: 0.8280  Validation Accuracy: 68.44%Loss: 0.8322  Validation Accuracy: 67.57%Loss: 0.8562  Validation Accuracy: 66.58%Loss: 0.8410  Validation Accuracy: 67.57%Loss: 0.8090  Validation Accuracy: 67.33%Loss: 0.8289  Validation Accuracy: 67.82%Loss: 0.8311  Validation Accuracy: 67.45%Loss: 0.8530  Validation Accuracy: 67.20%Loss: 0.8336  Validation Accuracy: 67.33%Loss: 0.8064  Validation Accuracy: 67.33%Loss: 0.8270  Validation Accuracy: 67.70%Loss: 0.8285  Validation Accuracy: 67.70%Loss: 0.8515  Validation Accuracy: 66.46%Loss: 0.8347  Validation Accuracy: 67.20%Loss: 0.8054  Validation Accuracy: 67.70%Loss: 0.8256  Validation Accuracy: 68.07%Loss: 0.8275  Validation Accuracy: 67.70%Loss: 0.8502  Validation Accuracy: 66.09%Loss: 0.8306  Validation Accuracy: 67.57%Loss: 0.8025  Validation Accuracy: 67.45%Loss: 0.8220  Validation Accuracy: 68.19%Loss: 0.8265  Validation Accuracy: 67.45%Loss: 0.8472  Validation Accuracy: 66.21%Loss: 0.8275  Validation Accuracy: 67.95%Loss: 0.8016  Validation Accuracy: 68.19%Loss: 0.8226  Validation Accuracy: 68.19%Loss: 0.8251  Validation Accuracy: 68.44%Loss: 0.8453  Validation Accuracy: 66.46%Loss: 0.8286  Validation Accuracy: 67.08%Loss: 0.8017  Validation Accuracy: 67.70%Loss: 0.8197  Validation Accuracy: 68.32%Loss: 0.8243  Validation Accuracy: 67.95%Loss: 0.8454  Validation Accuracy: 66.46%Loss: 0.8247  Validation Accuracy: 67.57%Loss: 0.8024  Validation Accuracy: 67.45%Loss: 0.8185  Validation Accuracy: 67.95%Loss: 0.8230  Validation Accuracy: 67.95%Loss: 0.8408  Validation Accuracy: 67.20%Loss: 0.8252  Validation Accuracy: 66.58%Loss: 0.7979  Validation Accuracy: 68.32%Loss: 0.8185  Validation Accuracy: 68.69%Loss: 0.8211  Validation Accuracy: 68.07%Loss: 0.8386  Validation Accuracy: 67.08%Loss: 0.8203  Validation Accuracy: 67.08%Loss: 0.7958  Validation Accuracy: 68.32%Loss: 0.8170  Validation Accuracy: 68.94%Loss: 0.8240  Validation Accuracy: 68.07%Loss: 0.8404  Validation Accuracy: 66.58%Loss: 0.8166  Validation Accuracy: 68.19%Loss: 0.7950  Validation Accuracy: 67.57%Loss: 0.8115  Validation Accuracy: 68.69%Loss: 0.8189  Validation Accuracy: 68.69%Loss: 0.8360  Validation Accuracy: 67.33%Loss: 0.8152  Validation Accuracy: 68.07%Loss: 0.7923  Validation Accuracy: 67.57%Loss: 0.8118  Validation Accuracy: 68.69%Loss: 0.8191  Validation Accuracy: 68.44%Loss: 0.8338  Validation Accuracy: 67.33%Loss: 0.8150  Validation Accuracy: 68.19%Loss: 0.7919  Validation Accuracy: 68.32%Loss: 0.8100  Validation Accuracy: 69.80%Loss: 0.8175  Validation Accuracy: 68.44%Loss: 0.8315  Validation Accuracy: 67.57%Loss: 0.8110  Validation Accuracy: 68.32%Loss: 0.7904  Validation Accuracy: 67.45%Loss: 0.8069  Validation Accuracy: 69.06%Loss: 0.8173  Validation Accuracy: 68.56%Loss: 0.8340  Validation Accuracy: 66.83%Loss: 0.8111  Validation Accuracy: 68.32%Loss: 0.7896  Validation Accuracy: 68.32%Loss: 0.8061  Validation Accuracy: 68.44%Loss: 0.8147  Validation Accuracy: 68.81%Loss: 0.8264  Validation Accuracy: 67.57%Loss: 0.8100  Validation Accuracy: 68.69%Loss: 0.7893  Validation Accuracy: 68.19%Loss: 0.8066  Validation Accuracy: 69.06%Loss: 0.8137  Validation Accuracy: 68.19%Loss: 0.8277  Validation Accuracy: 67.95%Loss: 0.8088  Validation Accuracy: 68.07%Loss: 0.7891  Validation Accuracy: 68.19%Loss: 0.8031  Validation Accuracy: 69.06%Loss: 0.8126  Validation Accuracy: 68.32%Loss: 0.8247  Validation Accuracy: 68.19%Loss: 0.8077  Validation Accuracy: 68.32%Loss: 0.7912  Validation Accuracy: 69.18%Loss: 0.8033  Validation Accuracy: 69.31%Loss: 0.8127  Validation Accuracy: 68.94%Loss: 0.8273  Validation Accuracy: 67.33%Loss: 0.8067  Validation Accuracy: 68.19%Loss: 0.7879  Validation Accuracy: 68.56%Loss: 0.8006  Validation Accuracy: 69.55%Loss: 0.8104  Validation Accuracy: 68.56%Loss: 0.8231  Validation Accuracy: 68.44%Loss: 0.8045  Validation Accuracy: 67.82%Loss: 0.7857  Validation Accuracy: 68.19%Loss: 0.8018  Validation Accuracy: 69.31%Loss: 0.8086  Validation Accuracy: 68.69%Loss: 0.8215  Validation Accuracy: 67.95%Loss: 0.8024  Validation Accuracy: 69.06%Loss: 0.7869  Validation Accuracy: 68.81%Loss: 0.8017  Validation Accuracy: 69.43%Loss: 0.8085  Validation Accuracy: 68.69%Loss: 0.8217  Validation Accuracy: 67.95%Loss: 0.8011  Validation Accuracy: 68.56%Loss: 0.7843  Validation Accuracy: 69.06%Loss: 0.7992  Validation Accuracy: 70.17%Loss: 0.8069  Validation Accuracy: 68.94%Loss: 0.8209  Validation Accuracy: 67.70%Loss: 0.8012  Validation Accuracy: 68.69%Loss: 0.7879  Validation Accuracy: 68.81%Loss: 0.7971  Validation Accuracy: 70.67%Loss: 0.8068  Validation Accuracy: 68.56%Loss: 0.8180  Validation Accuracy: 68.56%Loss: 0.7976  Validation Accuracy: 68.69%Loss: 0.7834  Validation Accuracy: 69.06%Loss: 0.7959  Validation Accuracy: 70.42%Loss: 0.8087  Validation Accuracy: 68.81%Loss: 0.8191  Validation Accuracy: 67.57%Loss: 0.7961  Validation Accuracy: 68.44%Loss: 0.7856  Validation Accuracy: 68.81%Loss: 0.7965  Validation Accuracy: 70.05%Loss: 0.8069  Validation Accuracy: 69.06%Loss: 0.8174  Validation Accuracy: 68.19%Loss: 0.7967  Validation Accuracy: 68.32%Loss: 0.7851  Validation Accuracy: 68.81%Loss: 0.7944  Validation Accuracy: 70.42%Loss: 0.8059  Validation Accuracy: 68.94%Loss: 0.8172  Validation Accuracy: 67.70%Loss: 0.7966  Validation Accuracy: 68.56%Loss: 0.7826  Validation Accuracy: 68.69%Loss: 0.7972  Validation Accuracy: 70.30%Loss: 0.8069  Validation Accuracy: 68.81%Loss: 0.8160  Validation Accuracy: 68.44%Loss: 0.7955  Validation Accuracy: 68.44%Loss: 0.7788  Validation Accuracy: 69.06%Loss: 0.7922  Validation Accuracy: 70.79%\r"
     ]
    },
    {
     "name": "stdout",
     "output_type": "stream",
     "text": [
      "Epoch 320, CIFAR-10 Batch 4:  Loss: 0.8061  Validation Accuracy: 69.68%Loss: 0.8175  Validation Accuracy: 68.32%Loss: 0.7903  Validation Accuracy: 69.06%Loss: 0.7771  Validation Accuracy: 68.56%Loss: 0.7890  Validation Accuracy: 71.41%Loss: 0.8043  Validation Accuracy: 69.31%Loss: 0.8141  Validation Accuracy: 67.82%Loss: 0.7897  Validation Accuracy: 68.81%Loss: 0.7734  Validation Accuracy: 68.69%Loss: 0.7859  Validation Accuracy: 70.67%Loss: 0.8002  Validation Accuracy: 69.06%Loss: 0.8117  Validation Accuracy: 68.56%Loss: 0.7911  Validation Accuracy: 68.94%Loss: 0.7720  Validation Accuracy: 68.69%Loss: 0.7847  Validation Accuracy: 70.67%Loss: 0.7999  Validation Accuracy: 69.93%Loss: 0.8096  Validation Accuracy: 68.44%Loss: 0.7887  Validation Accuracy: 69.43%Loss: 0.7691  Validation Accuracy: 69.06%Loss: 0.7799  Validation Accuracy: 70.54%Loss: 0.7973  Validation Accuracy: 69.31%Loss: 0.8107  Validation Accuracy: 68.81%Loss: 0.7893  Validation Accuracy: 69.68%Loss: 0.7667  Validation Accuracy: 68.94%Loss: 0.7772  Validation Accuracy: 70.67%Loss: 0.7969  Validation Accuracy: 69.18%Loss: 0.8088  Validation Accuracy: 68.94%Loss: 0.7891  Validation Accuracy: 69.55%Loss: 0.7671  Validation Accuracy: 68.44%Loss: 0.7766  Validation Accuracy: 70.54%Loss: 0.7946  Validation Accuracy: 69.43%Loss: 0.8042  Validation Accuracy: 68.69%Loss: 0.7837  Validation Accuracy: 69.93%Loss: 0.7642  Validation Accuracy: 68.44%Loss: 0.7749  Validation Accuracy: 70.79%Loss: 0.7923  Validation Accuracy: 68.81%Loss: 0.8044  Validation Accuracy: 69.18%Loss: 0.7828  Validation Accuracy: 69.80%Loss: 0.7632  Validation Accuracy: 68.44%Loss: 0.7727  Validation Accuracy: 71.04%Loss: 0.7914  Validation Accuracy: 69.43%Loss: 0.8014  Validation Accuracy: 69.06%Loss: 0.7807  Validation Accuracy: 70.17%Loss: 0.7612  Validation Accuracy: 69.18%Loss: 0.7727  Validation Accuracy: 70.92%Loss: 0.7908  Validation Accuracy: 69.43%Loss: 0.8006  Validation Accuracy: 70.05%Loss: 0.7771  Validation Accuracy: 70.30%Loss: 0.7598  Validation Accuracy: 68.81%Loss: 0.7697  Validation Accuracy: 71.53%Loss: 0.7880  Validation Accuracy: 68.56%Loss: 0.7973  Validation Accuracy: 69.68%Loss: 0.7786  Validation Accuracy: 69.80%Loss: 0.7581  Validation Accuracy: 69.31%Loss: 0.7671  Validation Accuracy: 71.16%Loss: 0.7894  Validation Accuracy: 68.69%Loss: 0.7964  Validation Accuracy: 69.80%Loss: 0.7724  Validation Accuracy: 69.93%Loss: 0.7577  Validation Accuracy: 69.18%Loss: 0.7661  Validation Accuracy: 71.16%Loss: 0.7832  Validation Accuracy: 70.05%Loss: 0.7959  Validation Accuracy: 70.42%Loss: 0.7719  Validation Accuracy: 70.42%Loss: 0.7555  Validation Accuracy: 69.06%Loss: 0.7653  Validation Accuracy: 71.16%Loss: 0.7815  Validation Accuracy: 69.31%Loss: 0.7943  Validation Accuracy: 69.93%Loss: 0.7712  Validation Accuracy: 70.30%Loss: 0.7532  Validation Accuracy: 69.06%Loss: 0.7634  Validation Accuracy: 71.04%Loss: 0.7805  Validation Accuracy: 69.18%Loss: 0.7932  Validation Accuracy: 70.05%Loss: 0.7687  Validation Accuracy: 70.54%Loss: 0.7529  Validation Accuracy: 69.31%Loss: 0.7629  Validation Accuracy: 71.53%Loss: 0.7757  Validation Accuracy: 69.31%Loss: 0.7913  Validation Accuracy: 70.30%Loss: 0.7662  Validation Accuracy: 70.79%Loss: 0.7529  Validation Accuracy: 69.31%Loss: 0.7619  Validation Accuracy: 71.66%Loss: 0.7748  Validation Accuracy: 68.94%Loss: 0.7893  Validation Accuracy: 70.54%Loss: 0.7636  Validation Accuracy: 70.79%Loss: 0.7527  Validation Accuracy: 69.93%Loss: 0.7604  Validation Accuracy: 72.03%Loss: 0.7724  Validation Accuracy: 70.05%Loss: 0.7885  Validation Accuracy: 70.30%Loss: 0.7652  Validation Accuracy: 70.30%Loss: 0.7507  Validation Accuracy: 69.68%Loss: 0.7587  Validation Accuracy: 72.03%Loss: 0.7720  Validation Accuracy: 69.43%Loss: 0.7860  Validation Accuracy: 70.42%Loss: 0.7612  Validation Accuracy: 70.17%Loss: 0.7496  Validation Accuracy: 70.05%Loss: 0.7574  Validation Accuracy: 71.66%Loss: 0.7683  Validation Accuracy: 70.30%Loss: 0.7850  Validation Accuracy: 70.79%Loss: 0.7586  Validation Accuracy: 70.17%Loss: 0.7455  Validation Accuracy: 70.05%Loss: 0.7553  Validation Accuracy: 71.91%Loss: 0.7665  Validation Accuracy: 69.80%Loss: 0.7854  Validation Accuracy: 70.92%Loss: 0.7575  Validation Accuracy: 70.67%Loss: 0.7445  Validation Accuracy: 68.94%Loss: 0.7553  Validation Accuracy: 72.28%Loss: 0.7671  Validation Accuracy: 70.54%Loss: 0.7827  Validation Accuracy: 71.16%Loss: 0.7574  Validation Accuracy: 70.42%Loss: 0.7438  Validation Accuracy: 69.80%Loss: 0.7561  Validation Accuracy: 71.78%Loss: 0.7661  Validation Accuracy: 69.55%Loss: 0.7817  Validation Accuracy: 71.04%Loss: 0.7555  Validation Accuracy: 70.79%Loss: 0.7437  Validation Accuracy: 70.17%Loss: 0.7517  Validation Accuracy: 72.40%Loss: 0.7644  Validation Accuracy: 69.68%Loss: 0.7791  Validation Accuracy: 71.04%Loss: 0.7529  Validation Accuracy: 71.16%Loss: 0.7421  Validation Accuracy: 70.42%Loss: 0.7524  Validation Accuracy: 72.03%Loss: 0.7610  Validation Accuracy: 69.68%Loss: 0.7803  Validation Accuracy: 70.92%Loss: 0.7523  Validation Accuracy: 70.92%Loss: 0.7371  Validation Accuracy: 69.68%Loss: 0.7486  Validation Accuracy: 72.03%Loss: 0.7606  Validation Accuracy: 70.67%Loss: 0.7784  Validation Accuracy: 71.04%Loss: 0.7500  Validation Accuracy: 70.92%Loss: 0.7381  Validation Accuracy: 69.80%Loss: 0.7483  Validation Accuracy: 72.65%Loss: 0.7604  Validation Accuracy: 69.80%Loss: 0.7754  Validation Accuracy: 70.67%Loss: 0.7477  Validation Accuracy: 71.41%Loss: 0.7371  Validation Accuracy: 70.92%Loss: 0.7470  Validation Accuracy: 72.90%Loss: 0.7583  Validation Accuracy: 70.67%Loss: 0.7743  Validation Accuracy: 71.41%Loss: 0.7473  Validation Accuracy: 71.78%Loss: 0.7341  Validation Accuracy: 70.30%Loss: 0.7461  Validation Accuracy: 72.90%Loss: 0.7574  Validation Accuracy: 70.42%Loss: 0.7751  Validation Accuracy: 71.53%Loss: 0.7473  Validation Accuracy: 71.29%Loss: 0.7360  Validation Accuracy: 70.67%Loss: 0.7467  Validation Accuracy: 72.15%Loss: 0.7562  Validation Accuracy: 70.79%Loss: 0.7717  Validation Accuracy: 71.41%Loss: 0.7439  Validation Accuracy: 71.04%Loss: 0.7353  Validation Accuracy: 70.79%Loss: 0.7439  Validation Accuracy: 72.40%Loss: 0.7535  Validation Accuracy: 71.41%Loss: 0.7710  Validation Accuracy: 71.78%Loss: 0.7439  Validation Accuracy: 71.29%Loss: 0.7304  Validation Accuracy: 69.80%Loss: 0.7425  Validation Accuracy: 72.03%Loss: 0.7534  Validation Accuracy: 70.54%Loss: 0.7703  Validation Accuracy: 71.29%Loss: 0.7412  Validation Accuracy: 71.91%Loss: 0.7286  Validation Accuracy: 70.05%Loss: 0.7412  Validation Accuracy: 72.40%Loss: 0.7531  Validation Accuracy: 70.92%Loss: 0.7679  Validation Accuracy: 72.03%Loss: 0.7423  Validation Accuracy: 71.04%Loss: 0.7297  Validation Accuracy: 70.67%Loss: 0.7402  Validation Accuracy: 73.02%Loss: 0.7518  Validation Accuracy: 71.29%Loss: 0.7675  Validation Accuracy: 71.53%Loss: 0.7413  Validation Accuracy: 71.53%Loss: 0.7262  Validation Accuracy: 70.42%Loss: 0.7395  Validation Accuracy: 72.77%Loss: 0.7484  Validation Accuracy: 71.41%Loss: 0.7669  Validation Accuracy: 71.66%Loss: 0.7400  Validation Accuracy: 71.16%Loss: 0.7252  Validation Accuracy: 70.42%Loss: 0.7379  Validation Accuracy: 72.15%Loss: 0.7482  Validation Accuracy: 70.54%Loss: 0.7672  Validation Accuracy: 71.53%Loss: 0.7395  Validation Accuracy: 71.29%Loss: 0.7218  Validation Accuracy: 69.93%Loss: 0.7351  Validation Accuracy: 73.02%Loss: 0.7490  Validation Accuracy: 70.67%Loss: 0.7650  Validation Accuracy: 71.53%Loss: 0.7357  Validation Accuracy: 71.53%Loss: 0.7216  Validation Accuracy: 70.17%Loss: 0.7357  Validation Accuracy: 73.02%Loss: 0.7462  Validation Accuracy: 71.66%Loss: 0.7642  Validation Accuracy: 71.78%Loss: 0.7360  Validation Accuracy: 71.91%Loss: 0.7217  Validation Accuracy: 70.92%Loss: 0.7370  Validation Accuracy: 73.14%Loss: 0.7460  Validation Accuracy: 70.79%Loss: 0.7624  Validation Accuracy: 72.15%Loss: 0.7325  Validation Accuracy: 71.16%Loss: 0.7193  Validation Accuracy: 70.92%Loss: 0.7321  Validation Accuracy: 72.77%Loss: 0.7440  Validation Accuracy: 71.04%Loss: 0.7620  Validation Accuracy: 72.03%Loss: 0.7320  Validation Accuracy: 71.53%Loss: 0.7211  Validation Accuracy: 71.78%Loss: 0.7337  Validation Accuracy: 73.02%\r"
     ]
    },
    {
     "name": "stdout",
     "output_type": "stream",
     "text": [
      "Epoch 360, CIFAR-10 Batch 4:  Loss: 0.7432  Validation Accuracy: 72.03%Loss: 0.7602  Validation Accuracy: 71.29%Loss: 0.7306  Validation Accuracy: 71.66%Loss: 0.7163  Validation Accuracy: 70.67%Loss: 0.7305  Validation Accuracy: 73.02%Loss: 0.7419  Validation Accuracy: 71.91%Loss: 0.7590  Validation Accuracy: 71.41%Loss: 0.7288  Validation Accuracy: 71.91%Loss: 0.7167  Validation Accuracy: 70.79%Loss: 0.7307  Validation Accuracy: 73.14%Loss: 0.7392  Validation Accuracy: 70.92%Loss: 0.7571  Validation Accuracy: 71.66%Loss: 0.7267  Validation Accuracy: 70.79%Loss: 0.7140  Validation Accuracy: 70.92%Loss: 0.7304  Validation Accuracy: 72.77%Loss: 0.7388  Validation Accuracy: 71.78%Loss: 0.7583  Validation Accuracy: 72.03%Loss: 0.7261  Validation Accuracy: 71.78%Loss: 0.7165  Validation Accuracy: 71.04%Loss: 0.7289  Validation Accuracy: 73.51%Loss: 0.7351  Validation Accuracy: 71.78%Loss: 0.7539  Validation Accuracy: 72.40%Loss: 0.7254  Validation Accuracy: 72.28%Loss: 0.7115  Validation Accuracy: 71.04%Loss: 0.7258  Validation Accuracy: 73.39%Loss: 0.7356  Validation Accuracy: 72.40%Loss: 0.7546  Validation Accuracy: 72.15%Loss: 0.7242  Validation Accuracy: 72.40%Loss: 0.7105  Validation Accuracy: 71.53%Loss: 0.7254  Validation Accuracy: 73.39%Loss: 0.7357  Validation Accuracy: 71.04%Loss: 0.7537  Validation Accuracy: 72.40%Loss: 0.7230  Validation Accuracy: 72.15%Loss: 0.7083  Validation Accuracy: 71.29%Loss: 0.7225  Validation Accuracy: 72.90%Loss: 0.7336  Validation Accuracy: 72.15%Loss: 0.7525  Validation Accuracy: 72.52%Loss: 0.7228  Validation Accuracy: 72.03%Loss: 0.7106  Validation Accuracy: 71.29%Loss: 0.7229  Validation Accuracy: 73.64%Loss: 0.7312  Validation Accuracy: 72.15%Loss: 0.7494  Validation Accuracy: 72.65%Loss: 0.7221  Validation Accuracy: 72.03%Loss: 0.7075  Validation Accuracy: 71.29%Loss: 0.7205  Validation Accuracy: 73.51%Loss: 0.7317  Validation Accuracy: 72.40%Loss: 0.7512  Validation Accuracy: 72.15%Loss: 0.7202  Validation Accuracy: 72.40%Loss: 0.7046  Validation Accuracy: 71.41%Loss: 0.7191  Validation Accuracy: 73.27%Loss: 0.7294  Validation Accuracy: 73.02%Loss: 0.7482  Validation Accuracy: 72.52%Loss: 0.7189  Validation Accuracy: 72.52%Loss: 0.7031  Validation Accuracy: 71.53%Loss: 0.7157  Validation Accuracy: 73.76%Loss: 0.7306  Validation Accuracy: 71.91%Loss: 0.7449  Validation Accuracy: 72.65%Loss: 0.7198  Validation Accuracy: 72.65%Loss: 0.7036  Validation Accuracy: 70.67%Loss: 0.7172  Validation Accuracy: 73.64%Loss: 0.7273  Validation Accuracy: 72.65%Loss: 0.7448  Validation Accuracy: 72.65%Loss: 0.7152  Validation Accuracy: 71.91%Loss: 0.7044  Validation Accuracy: 71.16%Loss: 0.7173  Validation Accuracy: 73.76%Loss: 0.7271  Validation Accuracy: 72.03%Loss: 0.7450  Validation Accuracy: 73.14%Loss: 0.7189  Validation Accuracy: 72.77%Loss: 0.7006  Validation Accuracy: 70.67%Loss: 0.7138  Validation Accuracy: 73.51%Loss: 0.7252  Validation Accuracy: 71.78%Loss: 0.7433  Validation Accuracy: 73.27%Loss: 0.7159  Validation Accuracy: 72.77%Loss: 0.7015  Validation Accuracy: 71.91%Loss: 0.7161  Validation Accuracy: 73.89%Loss: 0.7240  Validation Accuracy: 72.15%Loss: 0.7419  Validation Accuracy: 73.02%Loss: 0.7146  Validation Accuracy: 72.28%Loss: 0.6981  Validation Accuracy: 71.29%Loss: 0.7125  Validation Accuracy: 74.01%Loss: 0.7214  Validation Accuracy: 73.14%Loss: 0.7397  Validation Accuracy: 73.27%Loss: 0.7129  Validation Accuracy: 72.90%Loss: 0.6972  Validation Accuracy: 71.66%Loss: 0.7109  Validation Accuracy: 74.01%Loss: 0.7228  Validation Accuracy: 73.27%Loss: 0.7388  Validation Accuracy: 73.27%Loss: 0.7108  Validation Accuracy: 72.65%Loss: 0.6962  Validation Accuracy: 71.29%Loss: 0.7097  Validation Accuracy: 74.13%Loss: 0.7196  Validation Accuracy: 72.65%Loss: 0.7406  Validation Accuracy: 73.39%Loss: 0.7150  Validation Accuracy: 73.27%Loss: 0.6972  Validation Accuracy: 71.29%Loss: 0.7087  Validation Accuracy: 74.26%Loss: 0.7201  Validation Accuracy: 72.28%Loss: 0.7368  Validation Accuracy: 73.14%Loss: 0.7087  Validation Accuracy: 72.40%Loss: 0.6944  Validation Accuracy: 72.15%Loss: 0.7090  Validation Accuracy: 74.26%Loss: 0.7172  Validation Accuracy: 73.02%Loss: 0.7374  Validation Accuracy: 72.90%Loss: 0.7078  Validation Accuracy: 73.51%Loss: 0.6943  Validation Accuracy: 72.03%Loss: 0.7069  Validation Accuracy: 74.26%Loss: 0.7163  Validation Accuracy: 72.77%Loss: 0.7340  Validation Accuracy: 73.27%Loss: 0.7093  Validation Accuracy: 73.51%Loss: 0.6942  Validation Accuracy: 72.03%Loss: 0.7074  Validation Accuracy: 74.50%Loss: 0.7171  Validation Accuracy: 73.51%Loss: 0.7345  Validation Accuracy: 73.39%Loss: 0.7072  Validation Accuracy: 73.89%Loss: 0.6908  Validation Accuracy: 72.03%Loss: 0.7057  Validation Accuracy: 74.75%Loss: 0.7142  Validation Accuracy: 73.14%Loss: 0.7356  Validation Accuracy: 73.27%Loss: 0.7084  Validation Accuracy: 73.76%Loss: 0.6900  Validation Accuracy: 72.52%Loss: 0.7054  Validation Accuracy: 74.63%Loss: 0.7156  Validation Accuracy: 72.65%Loss: 0.7331  Validation Accuracy: 73.39%Loss: 0.7056  Validation Accuracy: 73.27%Loss: 0.6877  Validation Accuracy: 72.28%Loss: 0.7046  Validation Accuracy: 74.88%Loss: 0.7136  Validation Accuracy: 72.77%Loss: 0.7319  Validation Accuracy: 73.14%Loss: 0.7038  Validation Accuracy: 73.51%Loss: 0.6861  Validation Accuracy: 72.65%Loss: 0.7013  Validation Accuracy: 74.88%Loss: 0.7114  Validation Accuracy: 73.64%Loss: 0.7286  Validation Accuracy: 73.64%Loss: 0.7065  Validation Accuracy: 73.27%Loss: 0.6867  Validation Accuracy: 72.90%Loss: 0.7010  Validation Accuracy: 74.38%Loss: 0.7116  Validation Accuracy: 73.39%Loss: 0.7295  Validation Accuracy: 73.76%Loss: 0.7017  Validation Accuracy: 74.01%Loss: 0.6834  Validation Accuracy: 72.77%Loss: 0.6991  Validation Accuracy: 74.88%Loss: 0.7094  Validation Accuracy: 73.51%Loss: 0.7273  Validation Accuracy: 74.01%Loss: 0.7027  Validation Accuracy: 73.51%Loss: 0.6840  Validation Accuracy: 72.65%Loss: 0.6992  Validation Accuracy: 75.00%Loss: 0.7092  Validation Accuracy: 73.14%Loss: 0.7270  Validation Accuracy: 74.01%Loss: 0.7059  Validation Accuracy: 73.64%Loss: 0.6834  Validation Accuracy: 72.65%Loss: 0.6979  Validation Accuracy: 75.25%Loss: 0.7069  Validation Accuracy: 73.39%Loss: 0.7249  Validation Accuracy: 74.01%Loss: 0.6999  Validation Accuracy: 73.76%Loss: 0.6827  Validation Accuracy: 73.14%Loss: 0.6995  Validation Accuracy: 74.50%Loss: 0.7062  Validation Accuracy: 73.39%Loss: 0.7241  Validation Accuracy: 74.38%Loss: 0.6991  Validation Accuracy: 73.39%Loss: 0.6808  Validation Accuracy: 72.65%Loss: 0.6961  Validation Accuracy: 75.37%Loss: 0.7063  Validation Accuracy: 73.64%Loss: 0.7254  Validation Accuracy: 74.01%Loss: 0.7006  Validation Accuracy: 74.13%Loss: 0.6799  Validation Accuracy: 73.14%Loss: 0.6952  Validation Accuracy: 75.37%Loss: 0.7036  Validation Accuracy: 73.64%Loss: 0.7214  Validation Accuracy: 74.26%Loss: 0.6980  Validation Accuracy: 73.89%Loss: 0.6780  Validation Accuracy: 73.27%Loss: 0.6956  Validation Accuracy: 75.00%Loss: 0.7012  Validation Accuracy: 73.64%Loss: 0.7178  Validation Accuracy: 74.26%Loss: 0.6997  Validation Accuracy: 73.64%Loss: 0.6794  Validation Accuracy: 73.14%Loss: 0.6960  Validation Accuracy: 74.63%Loss: 0.7035  Validation Accuracy: 73.89%Loss: 0.7210  Validation Accuracy: 74.13%Loss: 0.6957  Validation Accuracy: 74.50%Loss: 0.6750  Validation Accuracy: 73.89%Loss: 0.6928  Validation Accuracy: 75.25%Loss: 0.7007  Validation Accuracy: 73.39%Loss: 0.7181  Validation Accuracy: 74.01%Loss: 0.6968  Validation Accuracy: 74.38%Loss: 0.6747  Validation Accuracy: 73.51%Loss: 0.6924  Validation Accuracy: 74.75%Loss: 0.7018  Validation Accuracy: 74.38%Loss: 0.7175  Validation Accuracy: 74.50%Loss: 0.6965  Validation Accuracy: 74.38%Loss: 0.6758  Validation Accuracy: 73.64%Loss: 0.6916  Validation Accuracy: 75.00%Loss: 0.6971  Validation Accuracy: 74.50%Loss: 0.7149  Validation Accuracy: 74.26%Loss: 0.6981  Validation Accuracy: 74.50%Loss: 0.6751  Validation Accuracy: 74.01%Loss: 0.6931  Validation Accuracy: 74.88%Loss: 0.6972  Validation Accuracy: 74.38%Loss: 0.7135  Validation Accuracy: 74.38%Loss: 0.6944  Validation Accuracy: 73.76%Loss: 0.6726  Validation Accuracy: 73.27%Loss: 0.6884  Validation Accuracy: 75.00%\r"
     ]
    },
    {
     "name": "stdout",
     "output_type": "stream",
     "text": [
      "Epoch 400, CIFAR-10 Batch 4:  Loss: 0.6966  Validation Accuracy: 74.26%Loss: 0.7152  Validation Accuracy: 74.75%Loss: 0.6945  Validation Accuracy: 74.26%Loss: 0.6719  Validation Accuracy: 74.13%Loss: 0.6898  Validation Accuracy: 75.00%Loss: 0.6968  Validation Accuracy: 74.01%Loss: 0.7124  Validation Accuracy: 74.50%Loss: 0.6959  Validation Accuracy: 74.01%Loss: 0.6722  Validation Accuracy: 74.01%Loss: 0.6878  Validation Accuracy: 75.12%Loss: 0.6938  Validation Accuracy: 74.26%Loss: 0.7121  Validation Accuracy: 73.76%Loss: 0.6907  Validation Accuracy: 75.37%Loss: 0.6698  Validation Accuracy: 74.13%Loss: 0.6879  Validation Accuracy: 75.37%Loss: 0.6953  Validation Accuracy: 73.89%Loss: 0.7110  Validation Accuracy: 74.75%Loss: 0.6923  Validation Accuracy: 74.88%Loss: 0.6712  Validation Accuracy: 73.64%Loss: 0.6866  Validation Accuracy: 74.88%Loss: 0.6957  Validation Accuracy: 74.75%Loss: 0.7087  Validation Accuracy: 74.75%Loss: 0.6890  Validation Accuracy: 74.75%Loss: 0.6708  Validation Accuracy: 74.01%Loss: 0.6846  Validation Accuracy: 75.62%Loss: 0.6921  Validation Accuracy: 74.26%Loss: 0.7090  Validation Accuracy: 75.00%Loss: 0.6916  Validation Accuracy: 74.38%Loss: 0.6672  Validation Accuracy: 74.26%Loss: 0.6874  Validation Accuracy: 75.12%Loss: 0.6931  Validation Accuracy: 74.13%Loss: 0.7062  Validation Accuracy: 75.37%Loss: 0.6902  Validation Accuracy: 74.38%Loss: 0.6691  Validation Accuracy: 73.51%Loss: 0.6835  Validation Accuracy: 75.25%Loss: 0.6904  Validation Accuracy: 74.88%Loss: 0.7074  Validation Accuracy: 74.63%Loss: 0.6891  Validation Accuracy: 74.38%Loss: 0.6665  Validation Accuracy: 73.51%Loss: 0.6842  Validation Accuracy: 75.62%Loss: 0.6901  Validation Accuracy: 75.12%Loss: 0.7089  Validation Accuracy: 74.13%Loss: 0.6863  Validation Accuracy: 74.38%Loss: 0.6658  Validation Accuracy: 74.50%Loss: 0.6820  Validation Accuracy: 75.50%Loss: 0.6916  Validation Accuracy: 75.00%Loss: 0.7084  Validation Accuracy: 75.25%Loss: 0.6858  Validation Accuracy: 74.26%Loss: 0.6655  Validation Accuracy: 73.76%Loss: 0.6801  Validation Accuracy: 75.37%Loss: 0.6892  Validation Accuracy: 74.38%Loss: 0.7110  Validation Accuracy: 74.75%Loss: 0.6930  Validation Accuracy: 72.40%Loss: 0.6634  Validation Accuracy: 73.51%Loss: 0.6753  Validation Accuracy: 75.87%Loss: 0.6892  Validation Accuracy: 74.26%Loss: 0.7080  Validation Accuracy: 74.26%Loss: 0.6900  Validation Accuracy: 73.02%Loss: 0.6681  Validation Accuracy: 73.27%Loss: 0.6770  Validation Accuracy: 75.37%Loss: 0.6866  Validation Accuracy: 74.26%Loss: 0.7028  Validation Accuracy: 75.00%Loss: 0.6942  Validation Accuracy: 72.77%Loss: 0.6722  Validation Accuracy: 73.76%Loss: 0.6753  Validation Accuracy: 75.25%Loss: 0.6860  Validation Accuracy: 74.50%Loss: 0.7025  Validation Accuracy: 75.00%Loss: 0.6854  Validation Accuracy: 73.27%Loss: 0.6630  Validation Accuracy: 73.64%Loss: 0.6748  Validation Accuracy: 75.37%Loss: 0.6877  Validation Accuracy: 74.01%Loss: 0.6987  Validation Accuracy: 75.62%Loss: 0.6824  Validation Accuracy: 74.38%Loss: 0.6695  Validation Accuracy: 74.13%Loss: 0.6876  Validation Accuracy: 75.12%Loss: 0.6887  Validation Accuracy: 74.75%Loss: 0.6995  Validation Accuracy: 75.37%Loss: 0.6814  Validation Accuracy: 74.26%Loss: 0.6661  Validation Accuracy: 74.38%Loss: 0.6870  Validation Accuracy: 75.25%Loss: 0.7008  Validation Accuracy: 73.76%Loss: 0.7086  Validation Accuracy: 74.88%Loss: 0.6772  Validation Accuracy: 74.63%Loss: 0.6630  Validation Accuracy: 74.13%Loss: 0.6854  Validation Accuracy: 75.25%Loss: 0.7025  Validation Accuracy: 73.76%Loss: 0.7249  Validation Accuracy: 74.01%Loss: 0.6798  Validation Accuracy: 73.76%Loss: 0.6612  Validation Accuracy: 75.12%Loss: 0.6745  Validation Accuracy: 75.99%Loss: 0.6974  Validation Accuracy: 74.38%Loss: 0.7395  Validation Accuracy: 73.27%Loss: 0.6925  Validation Accuracy: 72.65%Loss: 0.6763  Validation Accuracy: 74.38%Loss: 0.6718  Validation Accuracy: 75.37%Loss: 0.6819  Validation Accuracy: 74.75%Loss: 0.7130  Validation Accuracy: 74.63%Loss: 0.6940  Validation Accuracy: 72.28%Loss: 0.6950  Validation Accuracy: 73.89%Loss: 0.6843  Validation Accuracy: 75.37%Loss: 0.6846  Validation Accuracy: 74.38%Loss: 0.6951  Validation Accuracy: 75.00%Loss: 0.6804  Validation Accuracy: 72.40%Loss: 0.6773  Validation Accuracy: 74.63%Loss: 0.6741  Validation Accuracy: 75.37%Loss: 0.6793  Validation Accuracy: 75.25%Loss: 0.6931  Validation Accuracy: 75.25%Loss: 0.6732  Validation Accuracy: 73.39%Loss: 0.6604  Validation Accuracy: 74.50%Loss: 0.6671  Validation Accuracy: 76.24%Loss: 0.6772  Validation Accuracy: 75.50%Loss: 0.6930  Validation Accuracy: 75.74%Loss: 0.6712  Validation Accuracy: 74.50%Loss: 0.6578  Validation Accuracy: 75.00%Loss: 0.6636  Validation Accuracy: 76.24%Loss: 0.6745  Validation Accuracy: 76.11%Loss: 0.6932  Validation Accuracy: 76.11%Loss: 0.6702  Validation Accuracy: 74.13%Loss: 0.6598  Validation Accuracy: 75.25%Loss: 0.6642  Validation Accuracy: 76.73%Loss: 0.6744  Validation Accuracy: 75.25%Loss: 0.6907  Validation Accuracy: 75.74%Loss: 0.6703  Validation Accuracy: 74.01%Loss: 0.6589  Validation Accuracy: 75.00%Loss: 0.6640  Validation Accuracy: 76.36%Loss: 0.6735  Validation Accuracy: 75.37%Loss: 0.6870  Validation Accuracy: 75.99%Loss: 0.6684  Validation Accuracy: 74.38%Loss: 0.6577  Validation Accuracy: 75.37%Loss: 0.6634  Validation Accuracy: 76.73%Loss: 0.6715  Validation Accuracy: 75.12%Loss: 0.6862  Validation Accuracy: 76.11%Loss: 0.6682  Validation Accuracy: 74.75%Loss: 0.6552  Validation Accuracy: 75.12%Loss: 0.6598  Validation Accuracy: 76.36%Loss: 0.6705  Validation Accuracy: 75.12%Loss: 0.6860  Validation Accuracy: 75.50%Loss: 0.6664  Validation Accuracy: 75.12%Loss: 0.6539  Validation Accuracy: 75.74%Loss: 0.6586  Validation Accuracy: 76.36%Loss: 0.6692  Validation Accuracy: 75.74%Loss: 0.6864  Validation Accuracy: 75.12%Loss: 0.6650  Validation Accuracy: 75.62%Loss: 0.6518  Validation Accuracy: 75.87%Loss: 0.6586  Validation Accuracy: 76.61%Loss: 0.6679  Validation Accuracy: 75.12%Loss: 0.6839  Validation Accuracy: 76.61%Loss: 0.6655  Validation Accuracy: 74.75%Loss: 0.6547  Validation Accuracy: 75.37%Loss: 0.6597  Validation Accuracy: 76.61%Loss: 0.6679  Validation Accuracy: 75.00%Loss: 0.6811  Validation Accuracy: 76.11%Loss: 0.6656  Validation Accuracy: 74.63%Loss: 0.6557  Validation Accuracy: 75.62%Loss: 0.6588  Validation Accuracy: 76.36%Loss: 0.6700  Validation Accuracy: 75.37%Loss: 0.6795  Validation Accuracy: 75.74%Loss: 0.6642  Validation Accuracy: 75.00%Loss: 0.6488  Validation Accuracy: 75.74%Loss: 0.6579  Validation Accuracy: 76.49%Loss: 0.6677  Validation Accuracy: 74.63%Loss: 0.6788  Validation Accuracy: 76.24%Loss: 0.6642  Validation Accuracy: 73.89%Loss: 0.6462  Validation Accuracy: 75.87%Loss: 0.6543  Validation Accuracy: 76.49%Loss: 0.6639  Validation Accuracy: 75.74%Loss: 0.6770  Validation Accuracy: 76.24%Loss: 0.6615  Validation Accuracy: 74.75%Loss: 0.6458  Validation Accuracy: 75.87%Loss: 0.6523  Validation Accuracy: 76.61%Loss: 0.6656  Validation Accuracy: 75.87%Loss: 0.6756  Validation Accuracy: 76.61%Loss: 0.6621  Validation Accuracy: 75.74%Loss: 0.6425  Validation Accuracy: 75.99%Loss: 0.6528  Validation Accuracy: 76.61%Loss: 0.6631  Validation Accuracy: 76.49%Loss: 0.6751  Validation Accuracy: 76.36%Loss: 0.6610  Validation Accuracy: 74.75%Loss: 0.6427  Validation Accuracy: 75.87%Loss: 0.6513  Validation Accuracy: 77.10%Loss: 0.6616  Validation Accuracy: 75.74%Loss: 0.6786  Validation Accuracy: 76.49%Loss: 0.6630  Validation Accuracy: 75.00%Loss: 0.6448  Validation Accuracy: 76.24%Loss: 0.6503  Validation Accuracy: 76.98%Loss: 0.6638  Validation Accuracy: 76.11%Loss: 0.6747  Validation Accuracy: 76.86%Loss: 0.6588  Validation Accuracy: 75.50%Loss: 0.6405  Validation Accuracy: 76.49%Loss: 0.6497  Validation Accuracy: 77.10%Loss: 0.6599  Validation Accuracy: 76.11%Loss: 0.6777  Validation Accuracy: 76.36%Loss: 0.6604  Validation Accuracy: 74.88%Loss: 0.6426  Validation Accuracy: 76.24%Loss: 0.6490  Validation Accuracy: 76.86%Loss: 0.6586  Validation Accuracy: 76.61%Loss: 0.6732  Validation Accuracy: 75.74%Loss: 0.6594  Validation Accuracy: 75.25%Loss: 0.6446  Validation Accuracy: 76.11%Loss: 0.6487  Validation Accuracy: 77.23%\r"
     ]
    },
    {
     "name": "stdout",
     "output_type": "stream",
     "text": [
      "Epoch 400, CIFAR-10 Batch 5:  Loss: 0.6587  Validation Accuracy: 76.24%\r"
     ]
    }
   ],
   "source": [
    "\"\"\"\n",
    "DON'T MODIFY ANYTHING IN THIS CELL\n",
    "\"\"\"\n",
    "save_model_path = './image_classification'\n",
    "\n",
    "print('Training...')\n",
    "with tf.Session() as sess:\n",
    "    # Initializing the variables\n",
    "    sess.run(tf.global_variables_initializer())\n",
    "    \n",
    "    # Training cycle\n",
    "    for epoch in range(epochs):\n",
    "        # Loop over all batches\n",
    "        n_batches = 5\n",
    "        for batch_i in range(1, n_batches + 1):\n",
    "            for batch_features, batch_labels in helper.load_preprocess_training_batch(batch_i, batch_size):\n",
    "                train_neural_network(sess, optimizer, keep_probability, batch_features, batch_labels)\n",
    "            print('Epoch {:>2}, CIFAR-10 Batch {}:  '.format(epoch + 1, batch_i), end='')\n",
    "            print_stats(sess, batch_features, batch_labels, cost, accuracy)\n",
    "            \n",
    "    # Save Model\n",
    "    saver = tf.train.Saver()\n",
    "    save_path = saver.save(sess, save_model_path)"
   ]
  },
  {
   "cell_type": "markdown",
   "metadata": {},
   "source": [
    "# Checkpoint\n",
    "The model has been saved to disk.\n",
    "## Test Model\n",
    "Test your model against the test dataset.  This will be your final accuracy. You should have an accuracy greater than 50%. If you don't, keep tweaking the model architecture and parameters."
   ]
  },
  {
   "cell_type": "code",
   "execution_count": 59,
   "metadata": {},
   "outputs": [
    {
     "name": "stdout",
     "output_type": "stream",
     "text": [
      "Testing Accuracy: 0.5501451849937439\n",
      "\n"
     ]
    },
    {
     "data": {
      "image/png": "[encoded data removed]",
      "text/plain": [
       "<matplotlib.figure.Figure at 0x7f46887c10f0>"
      ]
     },
     "metadata": {
      "image/png": {
       "height": 319,
       "width": 355
      }
     },
     "output_type": "display_data"
    }
   ],
   "source": [
    "\"\"\"\n",
    "DON'T MODIFY ANYTHING IN THIS CELL\n",
    "\"\"\"\n",
    "%matplotlib inline\n",
    "%config InlineBackend.figure_format = 'retina'\n",
    "\n",
    "import tensorflow as tf\n",
    "import pickle\n",
    "import helper\n",
    "import random\n",
    "\n",
    "# Set batch size if not already set\n",
    "try:\n",
    "    if batch_size:\n",
    "        pass\n",
    "except NameError:\n",
    "    batch_size = 64\n",
    "\n",
    "save_model_path = './image_classification'\n",
    "n_samples = 4\n",
    "top_n_predictions = 3\n",
    "\n",
    "def test_model():\n",
    "    \"\"\"\n",
    "    Test the saved model against the test dataset\n",
    "    \"\"\"\n",
    "\n",
    "    test_features, test_labels = pickle.load(open('preprocess_training.p', mode='rb'))\n",
    "    loaded_graph = tf.Graph()\n",
    "\n",
    "    with tf.Session(graph=loaded_graph) as sess:\n",
    "        # Load model\n",
    "        loader = tf.train.import_meta_graph(save_model_path + '.meta')\n",
    "        loader.restore(sess, save_model_path)\n",
    "\n",
    "        # Get Tensors from loaded model\n",
    "        loaded_x = loaded_graph.get_tensor_by_name('x:0')\n",
    "        loaded_y = loaded_graph.get_tensor_by_name('y:0')\n",
    "        loaded_keep_prob = loaded_graph.get_tensor_by_name('keep_prob:0')\n",
    "        loaded_logits = loaded_graph.get_tensor_by_name('logits:0')\n",
    "        loaded_acc = loaded_graph.get_tensor_by_name('accuracy:0')\n",
    "        \n",
    "        # Get accuracy in batches for memory limitations\n",
    "        test_batch_acc_total = 0\n",
    "        test_batch_count = 0\n",
    "        \n",
    "        for train_feature_batch, train_label_batch in helper.batch_features_labels(test_features, test_labels, batch_size):\n",
    "            test_batch_acc_total += sess.run(\n",
    "                loaded_acc,\n",
    "                feed_dict={loaded_x: train_feature_batch, loaded_y: train_label_batch, loaded_keep_prob: 1.0})\n",
    "            test_batch_count += 1\n",
    "\n",
    "        print('Testing Accuracy: {}\\n'.format(test_batch_acc_total/test_batch_count))\n",
    "\n",
    "        # Print Random Samples\n",
    "        random_test_features, random_test_labels = tuple(zip(*random.sample(list(zip(test_features, test_labels)), n_samples)))\n",
    "        random_test_predictions = sess.run(\n",
    "            tf.nn.top_k(tf.nn.softmax(loaded_logits), top_n_predictions),\n",
    "            feed_dict={loaded_x: random_test_features, loaded_y: random_test_labels, loaded_keep_prob: 1.0})\n",
    "        helper.display_image_predictions(random_test_features, random_test_labels, random_test_predictions)\n",
    "\n",
    "\n",
    "test_model()"
   ]
  },
  {
   "cell_type": "markdown",
   "metadata": {},
   "source": [
    "## Why 50-80% Accuracy?\n",
    "You might be wondering why you can't get an accuracy any higher. First things first, 50% isn't bad for a simple CNN.  Pure guessing would get you 10% accuracy. However, you might notice people are getting scores [well above 80%](http://rodrigob.github.io/are_we_there_yet/build/classification_datasets_results.html#43494641522d3130).  That's because we haven't taught you all there is to know about neural networks. We still need to cover a few more techniques.\n",
    "## Submitting This Project\n",
    "When submitting this project, make sure to run all the cells before saving the notebook.  Save the notebook file as \"dlnd_image_classification.ipynb\" and save it as a HTML file under \"File\" -> \"Download as\".  Include the \"helper.py\" and \"problem_unittests.py\" files in your submission."
   ]
  },
  {
   "cell_type": "code",
   "execution_count": null,
   "metadata": {
    "collapsed": true
   },
   "outputs": [],
   "source": []
  }
 ],
 "metadata": {
  "kernelspec": {
   "display_name": "Python [conda env:image-classification]",
   "language": "python",
   "name": "conda-env-image-classification-py"
  },
  "language_info": {
   "codemirror_mode": {
    "name": "ipython",
    "version": 3
   },
   "file_extension": ".py",
   "mimetype": "text/x-python",
   "name": "python",
   "nbconvert_exporter": "python",
   "pygments_lexer": "ipython3",
   "version": "3.6.1"
  }
 },
 "nbformat": 4,
 "nbformat_minor": 1
}
